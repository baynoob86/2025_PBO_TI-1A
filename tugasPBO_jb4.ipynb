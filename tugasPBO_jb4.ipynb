{
  "nbformat": 4,
  "nbformat_minor": 0,
  "metadata": {
    "colab": {
      "provenance": [],
      "authorship_tag": "ABX9TyMghDKd1ucX+TCY+COC0Hem",
      "include_colab_link": true
    },
    "kernelspec": {
      "name": "python3",
      "display_name": "Python 3"
    },
    "language_info": {
      "name": "python"
    }
  },
  "cells": [
    {
      "cell_type": "markdown",
      "metadata": {
        "id": "view-in-github",
        "colab_type": "text"
      },
      "source": [
        "<a href=\"https://colab.research.google.com/github/baynoob86/2025_PBO_TI-1A/blob/main/tugasPBO_jb4.ipynb\" target=\"_parent\"><img src=\"https://colab.research.google.com/assets/colab-badge.svg\" alt=\"Open In Colab\"/></a>"
      ]
    },
    {
      "cell_type": "code",
      "source": [
        "#kelas induk\n",
        "class Mahasiswa:\n",
        "  def __init__(self,nama,nim,ipk):\n",
        "    self.nama= nama\n",
        "    self.nim= nim\n",
        "    self.ipk= ipk\n",
        "  def tampilkan_info(self):\n",
        "    print(f\"Nama: {self.nama}\")\n",
        "    print(f\"NIM: {self.nim}\")\n",
        "    print(f\"IPK: {self.ipk}\")\n",
        "  def hitung_predikat(self):\n",
        "    if self.ipk >= 3.5:\n",
        "      print(\"Dengan Pujian\")\n",
        "    elif self.ipk >= 3.0:\n",
        "      print(\"Sangat Memuaskan\")\n",
        "    elif self.ipk >= 2.5:\n",
        "      print(\"Memuaskan\")\n",
        "    else :\n",
        "      print(\"Gendeng Tenan\")\n",
        "\n",
        "#kelas anak\n",
        "class MahasiswaSarjana(Mahasiswa):\n",
        "  def __init__(self,nama,nim,ipk,semester,sks_lulus):\n",
        "    super().__init__(nama,nim,ipk)\n",
        "    self.semester= semester\n",
        "    self.sks_lulus= sks_lulus\n",
        "  def tampilkan_info(self):\n",
        "    super().tampilkan_info()\n",
        "    print(f\"Semester: {self.semester}\")\n",
        "    print(f\"SKS Lulus: {self.sks_lulus}\")\n",
        "\n",
        "class MahasiswaMagister(Mahasiswa):\n",
        "  def __init__(self,nama,nim,ipk,judul_tesis,nama_pembimbing):\n",
        "    super().__init__(nama,nim,ipk)\n",
        "    self.judul_tesis=judul_tesis\n",
        "    self.nama_pembimbing= nama_pembimbing\n",
        "  def tampilkan_info(self):\n",
        "    super().tampilkan_info()\n",
        "    print(f\"Judul Tesis: {self.judul_tesis}\")\n",
        "    print(f\"Pembimbing: {self.nama_pembimbing}\")\n",
        "\n",
        "#Kode\n",
        "if __name__==\"__main__\":\n",
        "  mhs1= MahasiswaSarjana(\"Doni\",\"443322\",3.3,2,100)\n",
        "  mhs2= MahasiswaMagister(\"Joni\",\"442233\",3.7,\"Cara Jadi Programmer\",\"Sumanto\")\n",
        "  print(\"--- Mahasiswa Sarjana ---\")\n",
        "  mhs1.tampilkan_info()\n",
        "  mhs1.hitung_predikat()\n",
        "  print(\"\\n--- Mahasiswa Magister ---\")\n",
        "  mhs2.tampilkan_info()\n",
        "  mhs2.hitung_predikat()\n",
        "\n",
        "\n"
      ],
      "metadata": {
        "colab": {
          "base_uri": "https://localhost:8080/"
        },
        "id": "ecudk9efl8P3",
        "outputId": "6851e083-9d81-4db2-ba99-4e8b6ee318b8"
      },
      "execution_count": 10,
      "outputs": [
        {
          "output_type": "stream",
          "name": "stdout",
          "text": [
            "--- Mahasiswa Sarjana ---\n",
            "Nama: Doni\n",
            "NIM: 443322\n",
            "IPK: 3.3\n",
            "Semester: 2\n",
            "SKS Lulus: 100\n",
            "Sangat Memuaskan\n",
            "\n",
            "--- Mahasiswa Magister ---\n",
            "Nama: Joni\n",
            "NIM: 442233\n",
            "IPK: 3.7\n",
            "Judul Tesis: Cara Jadi Programmer\n",
            "Pembimbing: Sumanto\n",
            "Dengan Pujian\n"
          ]
        }
      ]
    },
    {
      "cell_type": "code",
      "execution_count": null,
      "metadata": {
        "id": "U8InjgzBWBQU"
      },
      "outputs": [],
      "source": []
    }
  ]
}