{
  "nbformat": 4,
  "nbformat_minor": 0,
  "metadata": {
    "colab": {
      "provenance": [],
      "authorship_tag": "ABX9TyMQZNU4GWLjnaUqoiHNr/E/",
      "include_colab_link": true
    },
    "kernelspec": {
      "name": "python3",
      "display_name": "Python 3"
    },
    "language_info": {
      "name": "python"
    }
  },
  "cells": [
    {
      "cell_type": "markdown",
      "metadata": {
        "id": "view-in-github",
        "colab_type": "text"
      },
      "source": [
        "<a href=\"https://colab.research.google.com/github/baynoob86/2025_PBO_TI-1A/blob/main/PROGRAM2_Basith.ipynb\" target=\"_parent\"><img src=\"https://colab.research.google.com/assets/colab-badge.svg\" alt=\"Open In Colab\"/></a>"
      ]
    },
    {
      "cell_type": "markdown",
      "source": [
        "Buat Program 2: Buat program yang mengecek apakah suatu bilangan genap, ganjil, atau prima."
      ],
      "metadata": {
        "id": "MlxtE5XEI4tb"
      }
    },
    {
      "cell_type": "code",
      "execution_count": 5,
      "metadata": {
        "colab": {
          "base_uri": "https://localhost:8080/"
        },
        "id": "qVoyvHkiI3RS",
        "outputId": "5c2a2492-e25a-4948-f1da-343dd8a804fe"
      },
      "outputs": [
        {
          "output_type": "stream",
          "name": "stdout",
          "text": [
            "Masukkan bilangan: 10\n",
            "10 adalah bilangan genap\n",
            "10 bukan bilangan Prima\n"
          ]
        }
      ],
      "source": [
        "angka = int(input(\"Masukkan bilangan: \"))\n",
        "\n",
        "#Cek ganjil genap\n",
        "if angka % 2 == 0:\n",
        "  print(f\"{angka} adalah bilangan genap\")\n",
        "else :\n",
        " print(f\"{angka} adalah bilangan ganjil\")\n",
        "\n",
        "# Cek bilangan prima\n",
        "if angka > 1:\n",
        "    prima = True\n",
        "    for i in range(2, int(angka**0.5) + 1):\n",
        "        if angka % i == 0:\n",
        "            prima = False\n",
        "            break\n",
        "\n",
        "    if prima:\n",
        "        print(f\"{angka} adalah bilangan Prima\")\n",
        "    else:\n",
        "        print(f\"{angka} bukan bilangan Prima\")\n",
        "else:\n",
        "    print(f\"{angka} bukan bilangan Prima\")\n"
      ]
    }
  ]
}