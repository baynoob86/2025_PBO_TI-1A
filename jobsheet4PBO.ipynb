{
  "nbformat": 4,
  "nbformat_minor": 0,
  "metadata": {
    "colab": {
      "provenance": [],
      "authorship_tag": "ABX9TyP6DolCbAVvncllx4K+M9Zx",
      "include_colab_link": true
    },
    "kernelspec": {
      "name": "python3",
      "display_name": "Python 3"
    },
    "language_info": {
      "name": "python"
    }
  },
  "cells": [
    {
      "cell_type": "markdown",
      "metadata": {
        "id": "view-in-github",
        "colab_type": "text"
      },
      "source": [
        "<a href=\"https://colab.research.google.com/github/baynoob86/2025_PBO_TI-1A/blob/main/jobsheet4PBO.ipynb\" target=\"_parent\"><img src=\"https://colab.research.google.com/assets/colab-badge.svg\" alt=\"Open In Colab\"/></a>"
      ]
    },
    {
      "cell_type": "markdown",
      "source": [
        "## Praktikum 1"
      ],
      "metadata": {
        "id": "vADGfw0sWjVR"
      }
    },
    {
      "cell_type": "code",
      "execution_count": null,
      "metadata": {
        "id": "abepxaK0RQ0d",
        "colab": {
          "base_uri": "https://localhost:8080/"
        },
        "outputId": "c7030efa-7178-470b-a278-e16f94622cde"
      },
      "outputs": [
        {
          "output_type": "stream",
          "name": "stdout",
          "text": [
            "Ini adalah mobil Tesla Model S berwarna Merah.\n",
            "Mesin kendaraan Tesla Model S dinyalakan\n",
            "Merk mobil: Tesla Model S\n"
          ]
        }
      ],
      "source": [
        "class Kendaraan:\n",
        "  def __init__(self,merk) :\n",
        "    self.merk = merk\n",
        "  def mulai_mesin(self):\n",
        "    print(f\"Mesin kendaraan {self.merk} dinyalakan\")\n",
        "\n",
        "#Kelas anak\n",
        "class Mobil(Kendaraan):\n",
        "  def __init__(self,merk,warna):\n",
        "    self.merk = merk\n",
        "    self.warna = warna\n",
        "\n",
        "  def info_mobil(self):\n",
        "    print(f\"Ini adalah mobil {self.merk} berwarna {self.warna}.\")\n",
        "\n",
        "#Kode utama\n",
        "if __name__== \"__main__\":\n",
        "  mobil_tesla =Mobil(\"Tesla Model S\",\"Merah\")\n",
        "  #Panggil dari kelas anak\n",
        "  mobil_tesla.info_mobil()\n",
        "  #panggil metode yg diwarisi dari kls induk\n",
        "  mobil_tesla.mulai_mesin()\n",
        "  print(f\"Merk mobil: {mobil_tesla.merk}\")"
      ]
    },
    {
      "cell_type": "markdown",
      "source": [
        "## Praktikum 2"
      ],
      "metadata": {
        "id": "-U66RY_4Wqoi"
      }
    },
    {
      "cell_type": "code",
      "source": [
        "class Person:\n",
        "  def __init__(self,nama,usia):\n",
        "    print(f\"(Memanggil __init__ Person untuk '{nama}')\")\n",
        "    self.nama = nama\n",
        "    self.usia = usia\n",
        "  def perkenalkan_diri(self):\n",
        "    print(f\"Halo, nama saya {self.nama},usia saya {self.usia} tahun\")\n",
        "\n",
        "class Student(Person):\n",
        " def __init__(self,nama,usia,student_id,jurusan):\n",
        "  print(f\"(Memanggil __init__ Student untuk '{nama}')\")\n",
        "  super().__init__(nama,usia)\n",
        "  self.student_id=student_id\n",
        "  self.jurusan=jurusan\n",
        "  print(f\"(Inisialisasi atribut Student selesai untuk '{nama}')\")\n",
        " def info_akademik(self):\n",
        "  print(f\"ID Mahasiswa: {self.student_id}\")\n",
        "  print(f\"Jurusan: {self.jurusan}\")\n",
        " def perkenalkan_diri(self):\n",
        "  super().perkenalkan_diri()\n",
        "  print(f\"Saya adalah mahasiswa dengan ID {self.student_id},jurusan {self.jurusan}.\")\n",
        "\n",
        "if __name__==\"__main__\":\n",
        "  dosen = Person(\"Pak Anton\", 45)\n",
        "  print(\"-\" * 20)\n",
        "  dosen.perkenalkan_diri()\n",
        "  print(\"\\n\" + \"=\" * 30 + \"\\n\")\n",
        "\n",
        "  mahasiswa = Student(\"Dewi\",20,\"MHS001\",\"Teknik Komputer\")\n",
        "  print(\"-\" * 20)\n",
        "  mahasiswa.perkenalkan_diri()\n",
        "  print(\"-\" * 20)\n",
        "  mahasiswa.info_akademik()\n",
        "\n",
        "  print(f\"\\nUsia mahasiswa {mahasiswa.nama}: {mahasiswa.usia}\")"
      ],
      "metadata": {
        "id": "4o1UpaEUWvrV",
        "colab": {
          "base_uri": "https://localhost:8080/"
        },
        "outputId": "41e3d1ee-a0cd-4c65-c6a8-141aa867332d"
      },
      "execution_count": null,
      "outputs": [
        {
          "output_type": "stream",
          "name": "stdout",
          "text": [
            "(Memanggil __init__ Person untuk 'Pak Anton')\n",
            "--------------------\n",
            "Halo, nama saya Pak Anton,usia saya 45 tahun\n",
            "\n",
            "==============================\n",
            "\n",
            "(Memanggil __init__ Student untuk 'Dewi')\n",
            "(Memanggil __init__ Person untuk 'Dewi')\n",
            "(Inisialisasi atribut Student selesai untuk 'Dewi')\n",
            "--------------------\n",
            "Halo, nama saya Dewi,usia saya 20 tahun\n",
            "Saya adalah mahasiswa dengan ID MHS001,jurusan Teknik Komputer.\n",
            "--------------------\n",
            "ID Mahasiswa: MHS001\n",
            "Jurusan: Teknik Komputer\n",
            "\n",
            "Usia mahasiswa Dewi: 20\n"
          ]
        }
      ]
    },
    {
      "cell_type": "markdown",
      "source": [
        "## Praktikum 3"
      ],
      "metadata": {
        "id": "hizaJhrwWwNE"
      }
    },
    {
      "cell_type": "code",
      "source": [
        "class Hewan:\n",
        "  def __init__(self,nama):\n",
        "    self.nama = nama\n",
        "  def bersuara(self):\n",
        "    print(f\"{self.nama} mengeluarkan suara generik\")\n",
        "  def tampilkan_info(self):\n",
        "    print(f\"Ini adalah hewan bernama {self.nama}\")\n",
        "\n",
        "class Kucing(Hewan):\n",
        "  def __init__(self,nama,ras):\n",
        "    super().__init__(nama)\n",
        "    self.ras=ras\n",
        "  def bersuara(self):\n",
        "    print(f\"{self.nama} (Kucing) mengeong: Meow!\")\n",
        "  def tampilkan_info(self):\n",
        "    super().tampilkan_info()\n",
        "    print(f\"Ini adalah kucing ras {self.ras}.\")\n",
        "\n",
        "if __name__==\"__main__\":\n",
        "  hewan_umum = Hewan(\"Makhluk\")\n",
        "  kucing_persia = Kucing(\"Puspus\",\"Persia\")\n",
        "\n",
        "  print(\"Info Hewan Umum:\")\n",
        "  hewan_umum.tampilkan_info()\n",
        "  hewan_umum.bersuara()\n",
        "  print(\"-\" * 20)\n",
        "\n",
        "  print(\"Info Kucing Persia:\")\n",
        "  kucing_persia.tampilkan_info()\n",
        "  kucing_persia.bersuara()\n"
      ],
      "metadata": {
        "id": "SrPyQLi5W2HB",
        "colab": {
          "base_uri": "https://localhost:8080/"
        },
        "outputId": "789749ee-d4da-4763-c0b8-1822954028e3"
      },
      "execution_count": null,
      "outputs": [
        {
          "output_type": "stream",
          "name": "stdout",
          "text": [
            "Info Hewan Umum:\n",
            "Ini adalah hewan bernama Makhluk\n",
            "Makhluk mengeluarkan suara generik\n",
            "--------------------\n",
            "Info Kucing Persia:\n",
            "Ini adalah hewan bernama Puspus\n",
            "Ini adalah kucing ras Persia.\n",
            "Puspus (Kucing) mengeong: Meow!\n"
          ]
        }
      ]
    },
    {
      "cell_type": "markdown",
      "source": [
        "## Praktikum 4\n"
      ],
      "metadata": {
        "id": "ldhR8-9dXwdh"
      }
    },
    {
      "cell_type": "code",
      "source": [
        "class Organisme:\n",
        "  def __init__(self,nama):\n",
        "    self.nama=nama\n",
        "    print(f\"Organisme '{self.nama}' diciptakan\")\n",
        "  def bernapas(self):\n",
        "    print(f\"{self.nama} sedang bernapas.\")\n",
        "\n",
        "class Hewan(Organisme):\n",
        "  def __init__(self,nama,jenis_makanan):\n",
        "    super().__init__(nama)\n",
        "    self.jenis_makanan =jenis_makanan\n",
        "    print(f\"Hewan '{self.nama}' adalah {self.jenis_makanan}\")\n",
        "  def bergerak(self):\n",
        "    print(f\"{self.nama} sedang bergerak\")\n",
        "\n",
        "class Mamalia(Hewan):\n",
        "  def __init__(self,nama,jenis_makanan,jumlah_kaki):\n",
        "    super().__init__(nama,jenis_makanan)\n",
        "    self.jumlah_kaki= jumlah_kaki\n",
        "    print(f\"Mamalia '{self.nama}' memiliki {self.jumlah_kaki} kaki\")\n",
        "  def menyusui(self):\n",
        "    print(f\"{self.nama} sedang menyusui\")\n",
        "\n",
        "if __name__==\"__main__\":\n",
        "  kucing = Mamalia(\"Kucing Persia\",\"Karnivora\",4)\n",
        "  print(\"-\" * 20)\n",
        "  kucing.menyusui()\n",
        "  kucing.bergerak()\n",
        "  print(f\"Jenis makanan: {kucing.jenis_makanan}\")\n",
        "  kucing.bernapas()\n",
        "  print(f\"Nama organisme: {kucing.nama}\")"
      ],
      "metadata": {
        "colab": {
          "base_uri": "https://localhost:8080/"
        },
        "id": "7Baqobd8X0nb",
        "outputId": "aac5de33-39b5-453c-a586-fb8fe4e9a2a0"
      },
      "execution_count": null,
      "outputs": [
        {
          "output_type": "stream",
          "name": "stdout",
          "text": [
            "Organisme 'Kucing Persia' diciptakan\n",
            "Hewan 'Kucing Persia' adalah Karnivora\n",
            "Mamalia 'Kucing Persia' memiliki 4 kaki\n",
            "--------------------\n",
            "Kucing Persia sedang menyusui\n",
            "Kucing Persia sedang bergerak\n",
            "Jenis makanan: Karnivora\n",
            "Kucing Persia sedang bernapas.\n",
            "Nama organisme: Kucing Persia\n"
          ]
        }
      ]
    },
    {
      "cell_type": "markdown",
      "source": [
        "## Praktikum 5"
      ],
      "metadata": {
        "id": "9LCMMh2bX1TJ"
      }
    },
    {
      "cell_type": "code",
      "source": [
        "import locale\n",
        "try:\n",
        "  locale.setlocale(locale.LC_ALL,'id_ID.UTF-8')\n",
        "except locale.Error:\n",
        "  print(\"Locale id_ID.UTF-8 tidak tersedia,menggunakan locale default\")\n",
        "\n",
        "def format_rupiah(angka):\n",
        "  return locale.currency(angka,grouping=True,symbol='Rp ')\n",
        "\n",
        "#class induk\n",
        "class Pegawai:\n",
        "  def __init__(self,nama,id_pegawai,gaji_pokok):\n",
        "    self.nama=nama\n",
        "    self.id_pegawai=id_pegawai\n",
        "    self.gaji_pokok=gaji_pokok\n",
        "  def hitung_gaji(self):\n",
        "    return self.gaji_pokok\n",
        "  def tampilkan_info(self):\n",
        "    print(f\"ID: {self.id_pegawai},Nama: {self.nama}\")\n",
        "    print(f\"Gaji Pokok:{format_rupiah(self.gaji_pokok)}\")\n",
        "\n",
        "#class anak 1\n",
        "class Manager(Pegawai):\n",
        "  def __init__(self,nama,id_pegawai,gaji_pokok,tunjangan_jabatan):\n",
        "    super().__init__ (nama,id_pegawai,gaji_pokok)\n",
        "    self.tunjangan_jabatan= tunjangan_jabatan\n",
        "  def hitung_gaji(self):\n",
        "    gaji_total=super().hitung_gaji()+self.tunjangan_jabatan\n",
        "    return gaji_total\n",
        "  def tampilkan_info(self):\n",
        "    print(\"--- Info Manager ---\")\n",
        "    super().tampilkan_info()\n",
        "    print(f\"Tunjangan Jabatan: {format_rupiah(self.tunjangan_jabatan)} \")\n",
        "    print(f\"Total Gaji: {format_rupiah(self.hitung_gaji())} \")\n",
        "class StafTeknis(Pegawai):\n",
        "  def __init__(self,nama,id_pegawai,gaji_pokok,keahlian,bonus_keahlian):\n",
        "    super().__init__(nama,id_pegawai,gaji_pokok)\n",
        "    self.keahlian=keahlian\n",
        "    self.bonus_keahlian=bonus_keahlian\n",
        "  def hitung_gaji(self):\n",
        "    gaji_total=super().hitung_gaji() +self.bonus_keahlian\n",
        "    return gaji_total\n",
        "  def tampilkan_info(self):\n",
        "    print(\"--- Info Staf Teknis ---\")\n",
        "    super().tampilkan_info()\n",
        "    print(f\"Keahlian: {self.keahlian}\")\n",
        "    print(f\"Bonus Keahlian: {format_rupiah(self.bonus_keahlian)}\")\n",
        "    print(f\"Total Gaji: {format_rupiah(self.hitung_gaji())}\")\n",
        "\n",
        "if __name__== \"__main__\":\n",
        "  manager1=Manager(\"Budi Santoso\",\"M001\",10000000,5000000)\n",
        "  staf1= StafTeknis(\"Citra Les\",\"S001\",7000000,\"Python program\",1500000)\n",
        "  pegawai_baru= Pegawai(\"Rian\",\"P005\",5000000)\n",
        "  print(\"Menampilkan Informasi Pegawai\")\n",
        "  manager1.tampilkan_info()\n",
        "  print(\"-\"*30)\n",
        "  staf1.tampilkan_info()\n",
        "  print(\"-\"*30)\n",
        "\n",
        "  print(\"--- Info Pegawai Baru ---\")\n",
        "  pegawai_baru.tampilkan_info()\n",
        "  print(f\"Total Gaji: {format_rupiah(pegawai_baru.hitung_gaji())}\")\n",
        "  print(\"-\"*30)\n",
        "\n"
      ],
      "metadata": {
        "id": "YQY61OxeX5wF",
        "colab": {
          "base_uri": "https://localhost:8080/",
          "height": 426
        },
        "outputId": "539e8874-cf93-4056-f251-3d88f015f922"
      },
      "execution_count": null,
      "outputs": [
        {
          "output_type": "stream",
          "name": "stdout",
          "text": [
            "Locale id_ID.UTF-8 tidak tersedia,menggunakan locale default\n",
            "Menampilkan Informasi Pegawai\n",
            "--- Info Manager ---\n",
            "ID: M001,Nama: Budi Santoso\n"
          ]
        },
        {
          "output_type": "error",
          "ename": "ValueError",
          "evalue": "Currency formatting is not possible using the 'C' locale.",
          "traceback": [
            "\u001b[0;31m---------------------------------------------------------------------------\u001b[0m",
            "\u001b[0;31mValueError\u001b[0m                                Traceback (most recent call last)",
            "\u001b[0;32m<ipython-input-4-ca0f2d684240>\u001b[0m in \u001b[0;36m<cell line: 0>\u001b[0;34m()\u001b[0m\n\u001b[1;32m     53\u001b[0m   \u001b[0mpegawai_baru\u001b[0m\u001b[0;34m=\u001b[0m \u001b[0mPegawai\u001b[0m\u001b[0;34m(\u001b[0m\u001b[0;34m\"Rian\"\u001b[0m\u001b[0;34m,\u001b[0m\u001b[0;34m\"P005\"\u001b[0m\u001b[0;34m,\u001b[0m\u001b[0;36m5000000\u001b[0m\u001b[0;34m)\u001b[0m\u001b[0;34m\u001b[0m\u001b[0;34m\u001b[0m\u001b[0m\n\u001b[1;32m     54\u001b[0m   \u001b[0mprint\u001b[0m\u001b[0;34m(\u001b[0m\u001b[0;34m\"Menampilkan Informasi Pegawai\"\u001b[0m\u001b[0;34m)\u001b[0m\u001b[0;34m\u001b[0m\u001b[0;34m\u001b[0m\u001b[0m\n\u001b[0;32m---> 55\u001b[0;31m   \u001b[0mmanager1\u001b[0m\u001b[0;34m.\u001b[0m\u001b[0mtampilkan_info\u001b[0m\u001b[0;34m(\u001b[0m\u001b[0;34m)\u001b[0m\u001b[0;34m\u001b[0m\u001b[0;34m\u001b[0m\u001b[0m\n\u001b[0m\u001b[1;32m     56\u001b[0m   \u001b[0mprint\u001b[0m\u001b[0;34m(\u001b[0m\u001b[0;34m\"-\"\u001b[0m\u001b[0;34m*\u001b[0m\u001b[0;36m30\u001b[0m\u001b[0;34m)\u001b[0m\u001b[0;34m\u001b[0m\u001b[0;34m\u001b[0m\u001b[0m\n\u001b[1;32m     57\u001b[0m   \u001b[0mstaf1\u001b[0m\u001b[0;34m.\u001b[0m\u001b[0mtampilkan_info\u001b[0m\u001b[0;34m(\u001b[0m\u001b[0;34m)\u001b[0m\u001b[0;34m\u001b[0m\u001b[0;34m\u001b[0m\u001b[0m\n",
            "\u001b[0;32m<ipython-input-4-ca0f2d684240>\u001b[0m in \u001b[0;36mtampilkan_info\u001b[0;34m(self)\u001b[0m\n\u001b[1;32m     30\u001b[0m   \u001b[0;32mdef\u001b[0m \u001b[0mtampilkan_info\u001b[0m\u001b[0;34m(\u001b[0m\u001b[0mself\u001b[0m\u001b[0;34m)\u001b[0m\u001b[0;34m:\u001b[0m\u001b[0;34m\u001b[0m\u001b[0;34m\u001b[0m\u001b[0m\n\u001b[1;32m     31\u001b[0m     \u001b[0mprint\u001b[0m\u001b[0;34m(\u001b[0m\u001b[0;34m\"--- Info Manager ---\"\u001b[0m\u001b[0;34m)\u001b[0m\u001b[0;34m\u001b[0m\u001b[0;34m\u001b[0m\u001b[0m\n\u001b[0;32m---> 32\u001b[0;31m     \u001b[0msuper\u001b[0m\u001b[0;34m(\u001b[0m\u001b[0;34m)\u001b[0m\u001b[0;34m.\u001b[0m\u001b[0mtampilkan_info\u001b[0m\u001b[0;34m(\u001b[0m\u001b[0;34m)\u001b[0m\u001b[0;34m\u001b[0m\u001b[0;34m\u001b[0m\u001b[0m\n\u001b[0m\u001b[1;32m     33\u001b[0m     \u001b[0mprint\u001b[0m\u001b[0;34m(\u001b[0m\u001b[0;34mf\"Tunjangan Jabatan: {format_rupiah(self.tunjangan_jabatan)} \"\u001b[0m\u001b[0;34m)\u001b[0m\u001b[0;34m\u001b[0m\u001b[0;34m\u001b[0m\u001b[0m\n\u001b[1;32m     34\u001b[0m     \u001b[0mprint\u001b[0m\u001b[0;34m(\u001b[0m\u001b[0;34mf\"Total Gaji: {format_rupiah(self.hitung_gaji())} \"\u001b[0m\u001b[0;34m)\u001b[0m\u001b[0;34m\u001b[0m\u001b[0;34m\u001b[0m\u001b[0m\n",
            "\u001b[0;32m<ipython-input-4-ca0f2d684240>\u001b[0m in \u001b[0;36mtampilkan_info\u001b[0;34m(self)\u001b[0m\n\u001b[1;32m     18\u001b[0m   \u001b[0;32mdef\u001b[0m \u001b[0mtampilkan_info\u001b[0m\u001b[0;34m(\u001b[0m\u001b[0mself\u001b[0m\u001b[0;34m)\u001b[0m\u001b[0;34m:\u001b[0m\u001b[0;34m\u001b[0m\u001b[0;34m\u001b[0m\u001b[0m\n\u001b[1;32m     19\u001b[0m     \u001b[0mprint\u001b[0m\u001b[0;34m(\u001b[0m\u001b[0;34mf\"ID: {self.id_pegawai},Nama: {self.nama}\"\u001b[0m\u001b[0;34m)\u001b[0m\u001b[0;34m\u001b[0m\u001b[0;34m\u001b[0m\u001b[0m\n\u001b[0;32m---> 20\u001b[0;31m     \u001b[0mprint\u001b[0m\u001b[0;34m(\u001b[0m\u001b[0;34mf\"Gaji Pokok:{format_rupiah(self.gaji_pokok)}\"\u001b[0m\u001b[0;34m)\u001b[0m\u001b[0;34m\u001b[0m\u001b[0;34m\u001b[0m\u001b[0m\n\u001b[0m\u001b[1;32m     21\u001b[0m \u001b[0;34m\u001b[0m\u001b[0m\n\u001b[1;32m     22\u001b[0m \u001b[0;31m#class anak 1\u001b[0m\u001b[0;34m\u001b[0m\u001b[0;34m\u001b[0m\u001b[0m\n",
            "\u001b[0;32m<ipython-input-4-ca0f2d684240>\u001b[0m in \u001b[0;36mformat_rupiah\u001b[0;34m(angka)\u001b[0m\n\u001b[1;32m      6\u001b[0m \u001b[0;34m\u001b[0m\u001b[0m\n\u001b[1;32m      7\u001b[0m \u001b[0;32mdef\u001b[0m \u001b[0mformat_rupiah\u001b[0m\u001b[0;34m(\u001b[0m\u001b[0mangka\u001b[0m\u001b[0;34m)\u001b[0m\u001b[0;34m:\u001b[0m\u001b[0;34m\u001b[0m\u001b[0;34m\u001b[0m\u001b[0m\n\u001b[0;32m----> 8\u001b[0;31m   \u001b[0;32mreturn\u001b[0m \u001b[0mlocale\u001b[0m\u001b[0;34m.\u001b[0m\u001b[0mcurrency\u001b[0m\u001b[0;34m(\u001b[0m\u001b[0mangka\u001b[0m\u001b[0;34m,\u001b[0m\u001b[0mgrouping\u001b[0m\u001b[0;34m=\u001b[0m\u001b[0;32mTrue\u001b[0m\u001b[0;34m,\u001b[0m\u001b[0msymbol\u001b[0m\u001b[0;34m=\u001b[0m\u001b[0;34m'Rp '\u001b[0m\u001b[0;34m)\u001b[0m\u001b[0;34m\u001b[0m\u001b[0;34m\u001b[0m\u001b[0m\n\u001b[0m\u001b[1;32m      9\u001b[0m \u001b[0;34m\u001b[0m\u001b[0m\n\u001b[1;32m     10\u001b[0m \u001b[0;31m#class induk\u001b[0m\u001b[0;34m\u001b[0m\u001b[0;34m\u001b[0m\u001b[0m\n",
            "\u001b[0;32m/usr/lib/python3.11/locale.py\u001b[0m in \u001b[0;36mcurrency\u001b[0;34m(val, symbol, grouping, international)\u001b[0m\n\u001b[1;32m    271\u001b[0m     \u001b[0mdigits\u001b[0m \u001b[0;34m=\u001b[0m \u001b[0mconv\u001b[0m\u001b[0;34m[\u001b[0m\u001b[0minternational\u001b[0m \u001b[0;32mand\u001b[0m \u001b[0;34m'int_frac_digits'\u001b[0m \u001b[0;32mor\u001b[0m \u001b[0;34m'frac_digits'\u001b[0m\u001b[0;34m]\u001b[0m\u001b[0;34m\u001b[0m\u001b[0;34m\u001b[0m\u001b[0m\n\u001b[1;32m    272\u001b[0m     \u001b[0;32mif\u001b[0m \u001b[0mdigits\u001b[0m \u001b[0;34m==\u001b[0m \u001b[0;36m127\u001b[0m\u001b[0;34m:\u001b[0m\u001b[0;34m\u001b[0m\u001b[0;34m\u001b[0m\u001b[0m\n\u001b[0;32m--> 273\u001b[0;31m         raise ValueError(\"Currency formatting is not possible using \"\n\u001b[0m\u001b[1;32m    274\u001b[0m                          \"the 'C' locale.\")\n\u001b[1;32m    275\u001b[0m \u001b[0;34m\u001b[0m\u001b[0m\n",
            "\u001b[0;31mValueError\u001b[0m: Currency formatting is not possible using the 'C' locale."
          ]
        }
      ]
    },
    {
      "cell_type": "markdown",
      "source": [
        "## Praktikum 6"
      ],
      "metadata": {
        "id": "cOls4wIaYAjp"
      }
    },
    {
      "cell_type": "code",
      "source": [
        "class BentukGeometri:\n",
        "  def __init__(self,nama_bentuk):\n",
        "    self.nama=nama_bentuk\n",
        "  def tampilkan_nama(self):\n",
        "    print(f\"Ini adalah bentuk : {self.nama}\")\n",
        "  def hitung_luas(self):\n",
        "    print(f\"Luas {self.nama} tidak dihitung (generik)\")\n",
        "\n",
        "class PersegiPanjang(BentukGeometri):\n",
        "  def __init__(self,panjang,lebar):\n",
        "    super().__init__(\"Persegi Panjang\")\n",
        "    self.panjang=panjang\n",
        "    self.lebar=lebar\n",
        "  def hitung_luas(self):\n",
        "    luas= self.panjang  * self.lebar\n",
        "    print(f\"Luas {self.nama}: {luas}\")\n",
        "\n",
        "class Segitiga(BentukGeometri):\n",
        "  def __init__(self,alas,tinggi):\n",
        "    super().__init__(\"Segitiga\")\n",
        "    self.alas=alas\n",
        "    self.tinggi=tinggi\n",
        "  def hitung_luas(self):\n",
        "    luas= 0.5* self.alas * self.tinggi\n",
        "    print(f\"Luas {self.nama}: {luas}\")\n",
        "def proses_bentuk(bentuk):\n",
        "  print (f\"\\nMemproses objek: {type(bentuk)}\")\n",
        "  if isinstance(bentuk,BentukGeometri):\n",
        "    bentuk.tampilkan_nama()\n",
        "    print(\"Objek ini adalah instance dari BentukGeometri (atau tururnan)\")\n",
        "    if isinstance(bentuk,PersegiPanjang):\n",
        "      print(\"-> Objek ini juga instance dari PersegiPanjang\")\n",
        "    elif isinstance(bentuk,Segitiga):\n",
        "      print(\"-> Objek ini juga instance dari Segitiga\")\n",
        "  else:\n",
        "    print(\"Objek ini bukan instance dari BentukGeometri\")\n",
        "  if isinstance(bentuk,str):\n",
        "    print(\"Objek ini adalah string\")\n",
        "\n",
        "if __name__==\"__main__\":\n",
        "    pp = PersegiPanjang(4,3)\n",
        "    seg = Segitiga(5,2)\n",
        "    bg = BentukGeometri(\"Lingkaran\")\n",
        "    teks = \"ini string\"\n",
        "    daftar_objek=[pp,seg,bg,teks]\n",
        "\n",
        "    for obj in daftar_objek:\n",
        "      proses_bentuk(obj)\n",
        "\n"
      ],
      "metadata": {
        "id": "ox4JXP5RYD3U",
        "colab": {
          "base_uri": "https://localhost:8080/"
        },
        "outputId": "8398c04c-d3eb-430b-eadd-359183d218a6"
      },
      "execution_count": null,
      "outputs": [
        {
          "output_type": "stream",
          "name": "stdout",
          "text": [
            "\n",
            "Memproses objek: <class '__main__.PersegiPanjang'>\n",
            "Ini adalah bentuk : Persegi Panjang\n",
            "Objek ini adalah instance dari BentukGeometri (atau tururnan)\n",
            "-> Objek ini juga instance dari PersegiPanjang\n",
            "\n",
            "Memproses objek: <class '__main__.Segitiga'>\n",
            "Ini adalah bentuk : Segitiga\n",
            "Objek ini adalah instance dari BentukGeometri (atau tururnan)\n",
            "-> Objek ini juga instance dari Segitiga\n",
            "\n",
            "Memproses objek: <class '__main__.BentukGeometri'>\n",
            "Ini adalah bentuk : Lingkaran\n",
            "Objek ini adalah instance dari BentukGeometri (atau tururnan)\n",
            "\n",
            "Memproses objek: <class 'str'>\n",
            "Objek ini bukan instance dari BentukGeometri\n",
            "Objek ini adalah string\n"
          ]
        }
      ]
    }
  ]
}