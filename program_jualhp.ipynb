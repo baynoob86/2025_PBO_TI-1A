{
  "nbformat": 4,
  "nbformat_minor": 0,
  "metadata": {
    "colab": {
      "provenance": [],
      "authorship_tag": "ABX9TyNmkQfs9oMbsWeWQTD4U3MW",
      "include_colab_link": true
    },
    "kernelspec": {
      "name": "python3",
      "display_name": "Python 3"
    },
    "language_info": {
      "name": "python"
    }
  },
  "cells": [
    {
      "cell_type": "markdown",
      "metadata": {
        "id": "view-in-github",
        "colab_type": "text"
      },
      "source": [
        "<a href=\"https://colab.research.google.com/github/baynoob86/2025_PBO_TI-1A/blob/main/program_jualhp.ipynb\" target=\"_parent\"><img src=\"https://colab.research.google.com/assets/colab-badge.svg\" alt=\"Open In Colab\"/></a>"
      ]
    },
    {
      "cell_type": "code",
      "execution_count": 86,
      "metadata": {
        "colab": {
          "base_uri": "https://localhost:8080/"
        },
        "id": "wjDPgYwzpdi5",
        "outputId": "96860777-2708-4738-8213-c173614cdeff"
      },
      "outputs": [
        {
          "output_type": "stream",
          "name": "stdout",
          "text": [
            "Hp: Samsuldin\n",
            "Warna: Merah\n",
            "Harga: 3000000\n",
            "Status: Tersedia\n",
            "\n",
            "Hp: Wikwok\n",
            "Warna: Hitam\n",
            "Harga: 1000000\n",
            "Status: Terjual\n",
            "\n",
            "Hp 'Samsuldin' telah terjual\n",
            "Hp 'Wikwok' sedang dikorupsi.\n",
            "\n",
            "Hp 'Samsuldin' sudah tersedia\n",
            "Hp: Samsuldin\n",
            "Warna: Merah\n",
            "Harga: 3000000\n",
            "Status: Tersedia\n",
            "\n",
            "Hp: Wikwok\n",
            "Warna: Hitam\n",
            "Harga: 1000000\n",
            "Status: Terjual\n"
          ]
        }
      ],
      "source": [
        "import hp\n",
        "\n",
        "hape1.tampilkan_info()\n",
        "print()\n",
        "hape2.tampilkan_info()\n",
        "print()\n",
        "hape1.beli()\n",
        "hape2.beli()\n",
        "print()\n",
        "hape1.nyetok()\n",
        "hape1.tampilkan_info()\n",
        "print()\n",
        "hape2.tampilkan_info()\n",
        "\n"
      ]
    }
  ]
}