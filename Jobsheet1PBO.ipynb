{
  "nbformat": 4,
  "nbformat_minor": 0,
  "metadata": {
    "colab": {
      "provenance": [],
      "authorship_tag": "ABX9TyPnAsVDMYdR0rR9oOkyYljh",
      "include_colab_link": true
    },
    "kernelspec": {
      "name": "python3",
      "display_name": "Python 3"
    },
    "language_info": {
      "name": "python"
    }
  },
  "cells": [
    {
      "cell_type": "markdown",
      "metadata": {
        "id": "view-in-github",
        "colab_type": "text"
      },
      "source": [
        "<a href=\"https://colab.research.google.com/github/baynoob86/2025_PBO_TI-1A/blob/main/Jobsheet1PBO.ipynb\" target=\"_parent\"><img src=\"https://colab.research.google.com/assets/colab-badge.svg\" alt=\"Open In Colab\"/></a>"
      ]
    },
    {
      "cell_type": "markdown",
      "source": [
        "Coba Program BAsis Objek"
      ],
      "metadata": {
        "id": "zjZZP31soPdm"
      }
    },
    {
      "cell_type": "code",
      "source": [],
      "metadata": {
        "id": "WwNc8MLPoP8O"
      },
      "execution_count": null,
      "outputs": []
    },
    {
      "cell_type": "code",
      "source": [],
      "metadata": {
        "id": "Oc_x3YTmnKWY"
      },
      "execution_count": null,
      "outputs": []
    }
  ]
}