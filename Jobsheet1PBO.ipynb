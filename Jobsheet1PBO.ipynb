{
  "nbformat": 4,
  "nbformat_minor": 0,
  "metadata": {
    "colab": {
      "provenance": [],
      "authorship_tag": "ABX9TyNqS6EAxEAqlyTTN7qfNgDg",
      "include_colab_link": true
    },
    "kernelspec": {
      "name": "python3",
      "display_name": "Python 3"
    },
    "language_info": {
      "name": "python"
    }
  },
  "cells": [
    {
      "cell_type": "markdown",
      "metadata": {
        "id": "view-in-github",
        "colab_type": "text"
      },
      "source": [
        "<a href=\"https://colab.research.google.com/github/baynoob86/2025_PBO_TI-1A/blob/main/Jobsheet1PBO.ipynb\" target=\"_parent\"><img src=\"https://colab.research.google.com/assets/colab-badge.svg\" alt=\"Open In Colab\"/></a>"
      ]
    },
    {
      "cell_type": "markdown",
      "source": [
        "Coba Program BAsis Objek"
      ],
      "metadata": {
        "id": "zjZZP31soPdm"
      }
    },
    {
      "cell_type": "code",
      "source": [
        "print('HAlo boyy')"
      ],
      "metadata": {
        "id": "WwNc8MLPoP8O",
        "outputId": "f510af1d-3a43-4e04-d615-de50a3a9241f",
        "colab": {
          "base_uri": "https://localhost:8080/"
        }
      },
      "execution_count": 1,
      "outputs": [
        {
          "output_type": "stream",
          "name": "stdout",
          "text": [
            "HAlo boyy\n"
          ]
        }
      ]
    },
    {
      "cell_type": "code",
      "source": [],
      "metadata": {
        "id": "Oc_x3YTmnKWY"
      },
      "execution_count": null,
      "outputs": []
    }
  ]
}