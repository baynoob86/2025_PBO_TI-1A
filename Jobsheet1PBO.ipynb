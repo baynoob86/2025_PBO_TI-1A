{
  "nbformat": 4,
  "nbformat_minor": 0,
  "metadata": {
    "colab": {
      "provenance": [],
      "authorship_tag": "ABX9TyPRymCjbF70DOKSTZKAjm7G",
      "include_colab_link": true
    },
    "kernelspec": {
      "name": "python3",
      "display_name": "Python 3"
    },
    "language_info": {
      "name": "python"
    }
  },
  "cells": [
    {
      "cell_type": "markdown",
      "metadata": {
        "id": "view-in-github",
        "colab_type": "text"
      },
      "source": [
        "<a href=\"https://colab.research.google.com/github/baynoob86/2025_PBO_TI-1A/blob/main/Jobsheet1PBO.ipynb\" target=\"_parent\"><img src=\"https://colab.research.google.com/assets/colab-badge.svg\" alt=\"Open In Colab\"/></a>"
      ]
    },
    {
      "cell_type": "markdown",
      "source": [
        "Coba Program BAsis Objek"
      ],
      "metadata": {
        "id": "zjZZP31soPdm"
      }
    },
    {
      "cell_type": "markdown",
      "source": [
        "**PRAKTIKUM 01. TIPE DATA DASAR**"
      ],
      "metadata": {
        "id": "Nu-ur6qy_IXr"
      }
    },
    {
      "cell_type": "code",
      "source": [
        "# 1. Number (int, float, complex) 02: # Integer (int)\n",
        "angka_int = 10\n",
        "print(\"angka_int =\", angka_int, \"->\", type(angka_int))"
      ],
      "metadata": {
        "id": "WwNc8MLPoP8O",
        "outputId": "2424be59-cb35-4404-a1b8-701e39b5777e",
        "colab": {
          "base_uri": "https://localhost:8080/"
        }
      },
      "execution_count": 15,
      "outputs": [
        {
          "output_type": "stream",
          "name": "stdout",
          "text": [
            "angka_int = 10 -> <class 'int'>\n"
          ]
        }
      ]
    },
    {
      "cell_type": "code",
      "source": [
        "# Float\n",
        "angka_float = 3.14\n",
        "print(\"nangka_float =\", angka_float, \"->\", type(angka_float))"
      ],
      "metadata": {
        "id": "Oc_x3YTmnKWY",
        "outputId": "65c988ae-ad48-4201-bc92-fbbd45ea83ed",
        "colab": {
          "base_uri": "https://localhost:8080/"
        }
      },
      "execution_count": 32,
      "outputs": [
        {
          "output_type": "stream",
          "name": "stdout",
          "text": [
            "nangka_float = 3.14 -> <class 'float'>\n"
          ]
        }
      ]
    },
    {
      "cell_type": "code",
      "source": [
        "# Complex\n",
        "angka_complex = 2 + 3j\n",
        "print(\"angka_complex =\", angka_complex, \"->\", type(angka_complex))"
      ],
      "metadata": {
        "id": "ynby99p8DOM0",
        "outputId": "d56734ab-8685-4eea-c8e5-ed61df4c8eba",
        "colab": {
          "base_uri": "https://localhost:8080/"
        }
      },
      "execution_count": 31,
      "outputs": [
        {
          "output_type": "stream",
          "name": "stdout",
          "text": [
            "angka_complex = (2+3j) -> <class 'complex'>\n"
          ]
        }
      ]
    },
    {
      "cell_type": "code",
      "source": [
        "# 2. Boolean 15:\n",
        "is_active = True\n",
        "print(\"is_active =\", is_active, \"->\", type(is_active))"
      ],
      "metadata": {
        "id": "TzumwdAgDeUQ",
        "outputId": "c8e00602-05c2-4e78-f55f-2fc9de821e7c",
        "colab": {
          "base_uri": "https://localhost:8080/"
        }
      },
      "execution_count": 30,
      "outputs": [
        {
          "output_type": "stream",
          "name": "stdout",
          "text": [
            "is_active = True -> <class 'bool'>\n"
          ]
        }
      ]
    },
    {
      "cell_type": "code",
      "source": [
        "# 3. String\n",
        "teks = \"Hello, Python!\"\n",
        "print(\"teks =\", teks, \"->\", type(teks))"
      ],
      "metadata": {
        "id": "cJwerSjZDhJx",
        "outputId": "6618a8fc-ca35-495e-c2e1-44be3ace9e39",
        "colab": {
          "base_uri": "https://localhost:8080/"
        }
      },
      "execution_count": 19,
      "outputs": [
        {
          "output_type": "stream",
          "name": "stdout",
          "text": [
            "teks = Hello, Python! -> <class 'str'>\n"
          ]
        }
      ]
    },
    {
      "cell_type": "code",
      "source": [
        "# 4. List\n",
        "# List adalah tipe data terurut dan dapat diubah (mutable)\n",
        "daftar_angka = [1, 2, 3, 4, 5]\n",
        "print(\"daftar_angka =\", daftar_angka, \"->\", type(daftar_angka))"
      ],
      "metadata": {
        "id": "9R6j3kkxDkd7",
        "outputId": "3412e6c2-ee48-48e4-ed6a-cb167dfe770d",
        "colab": {
          "base_uri": "https://localhost:8080/"
        }
      },
      "execution_count": 20,
      "outputs": [
        {
          "output_type": "stream",
          "name": "stdout",
          "text": [
            "daftar_angka = [1, 2, 3, 4, 5] -> <class 'list'>\n"
          ]
        }
      ]
    },
    {
      "cell_type": "code",
      "source": [
        "# 5. Tuple\n",
        "# Tuple adalah tipe data terurut tetapi tidak dapat diubah (immutable)\n",
        "koordinat = (10, 20)\n",
        "print(\"koordinat =\", koordinat, \"->\", type(koordinat))"
      ],
      "metadata": {
        "id": "H5C8yQnpDq5r",
        "outputId": "b40c552c-2bb0-4fed-e580-2121aecde3e8",
        "colab": {
          "base_uri": "https://localhost:8080/"
        }
      },
      "execution_count": 21,
      "outputs": [
        {
          "output_type": "stream",
          "name": "stdout",
          "text": [
            "koordinat = (10, 20) -> <class 'tuple'>\n"
          ]
        }
      ]
    },
    {
      "cell_type": "code",
      "source": [
        "# 6. Dictionary\n",
        "# Dictionary menyimpan data dalam pasangan key-value\n",
        "data_mahasiswa = {\n",
        "  \"nama\": \"Andi\",\n",
        "  \"nim\": \"A11.2022.12345\",\n",
        "  \"jurusan\": \"Teknik Informatika\"\n",
        "}\n",
        "print(\"doota_mahasiswa =\", data_mahasiswa, \"->\", type(data_mahasiswa))"
      ],
      "metadata": {
        "id": "0YM6w7e0DtOA",
        "outputId": "ea8be377-8bce-4a0d-f195-fc76eb04ae5f",
        "colab": {
          "base_uri": "https://localhost:8080/"
        }
      },
      "execution_count": 27,
      "outputs": [
        {
          "output_type": "stream",
          "name": "stdout",
          "text": [
            "doota_mahasiswa = {'nama': 'Andi', 'nim': 'A11.2022.12345', 'jurusan': 'Teknik Informatika'} -> <class 'dict'>\n"
          ]
        }
      ]
    },
    {
      "cell_type": "code",
      "source": [
        "# 7. Set\n",
        "# Set adalah tipe data yang tidak terurut, unik (tiap elemen hanya muncul 1x)\n",
        "himpunan_angka = {1, 2, 3, 2, 1}\n",
        "print(\"himpunan_angka =\", himpunan_angka, \"->\", type(himpunan_angka))\n"
      ],
      "metadata": {
        "id": "ptkTLuLVDvcX",
        "outputId": "fa4d15d6-b195-49ef-b71a-cf6b4d7ff17a",
        "colab": {
          "base_uri": "https://localhost:8080/"
        }
      },
      "execution_count": 28,
      "outputs": [
        {
          "output_type": "stream",
          "name": "stdout",
          "text": [
            "himpunan_angka = {1, 2, 3} -> <class 'set'>\n"
          ]
        }
      ]
    },
    {
      "cell_type": "code",
      "source": [
        "# 8. Contoh penggunaan konversi tipe data\n",
        "nilai_str = \"100\"\n",
        "print(\"nilai_str =\", nilai_str, \"->\", type(nilai_str))\n",
        "nilai_int = int(nilai_str) # konversi string ke integer\n",
        "print(\"\\nnilai_int =\", nilai_int, \"->\", type(nilai_int))"
      ],
      "metadata": {
        "id": "IE7sjQ3IDx4u",
        "outputId": "f553ca00-2279-40e5-93ee-2ce1ae2ca1d1",
        "colab": {
          "base_uri": "https://localhost:8080/"
        }
      },
      "execution_count": 29,
      "outputs": [
        {
          "output_type": "stream",
          "name": "stdout",
          "text": [
            "nilai_str = 100 -> <class 'str'>\n",
            "\n",
            "nilai_int = 100 -> <class 'int'>\n"
          ]
        }
      ]
    },
    {
      "cell_type": "markdown",
      "source": [
        "**PRAKTIKUM 02. VARIABEL DAN OPERASI DASAR**"
      ],
      "metadata": {
        "id": "-lhD3hKeEmI-"
      }
    },
    {
      "cell_type": "code",
      "source": [
        "# -*- coding: utf-8 -*-\n",
        "\n",
        "# 1. Pendeklarasian Variabel\n",
        "nama = \"Budi\"\n",
        "umur = 20\n",
        "tinggi = 170.5\n",
        "is_student = True\n",
        "print(\"Nama =\", nama)\n",
        "print(\"Umur =\", umur)\n",
        "print(\"Tinggi =\", tinggi, \"cm\")\n",
        "print(\"Mahasiswa =\", is_student)"
      ],
      "metadata": {
        "id": "PiUJ0jcuEwBs",
        "outputId": "905a460f-a3f9-413b-b1a4-98e41c305ea2",
        "colab": {
          "base_uri": "https://localhost:8080/"
        }
      },
      "execution_count": 37,
      "outputs": [
        {
          "output_type": "stream",
          "name": "stdout",
          "text": [
            "Nama = Budi\n",
            "Umur = 20\n",
            "Tinggi = 170.5 cm\n",
            "Mahasiswa = True\n"
          ]
        }
      ]
    },
    {
      "cell_type": "code",
      "source": [
        "# Python tidak memerlukan deklarasi tipe data secara eksplisit.\n",
        "# Tipe data variabel akan menyesuaikan nilai yang diberikan.\n",
        "\n",
        "# 2. Operasi Aritmetika\n",
        "a = 10\n",
        "b = 3\n",
        "\n",
        "penjumlahan = a + b  # Tambah\n",
        "pengurangan = a - b  # Kurang\n",
        "perkalian = a * b    # Kali\n",
        "pembagian = a / b\t# Bagi (hasil float)\n",
        "pembagian_bulat = a // b # Bagi (bulat)\n",
        "modulus = a % b\t# Sisa bagi\n",
        "pangkat = a ** b\t# Pemangkatan\n",
        "print(\"\\nOPERASI ARITMETIKA\")\n",
        "print(\"a =\", a, \", b =\", b)\n",
        "print(\"Penjumlahan =\", penjumlahan)\n",
        "print(\"Pengurangan =\", pengurangan)\n",
        "print(\"Perkalian =\", perkalian)\n",
        "print(\"Pembagian =\", pembagian)\n",
        "print(\"Pembagian Bulat =\", pembagian_bulat)\n",
        "print(\"Modulus =\", modulus)\n",
        "print(\"Pangkat =\", pangkat)\n",
        "\n",
        "print(\"\\nOPERASI ARITMETIKA\")\n",
        "print(\"a =\", a, \", b =\", b)\n",
        "print(\"Penjumlahan =\", penjumlahan)\n",
        "print(\"Pengurangan =\", pengurangan)\n",
        "print(\"Perkalian =\", perkalian)\n",
        "print(\"Pembagian =\", pembagian)\n",
        "print(\"Pembagian Bulat =\", pembagian_bulat)\n",
        "print(\"Modulus =\", modulus)\n",
        "print(\"Pangkat =\", pangkat)\n"
      ],
      "metadata": {
        "id": "3f-xqfgIFWft",
        "outputId": "9826243a-aa34-44e5-e418-45e7fc994a2b",
        "colab": {
          "base_uri": "https://localhost:8080/"
        }
      },
      "execution_count": 39,
      "outputs": [
        {
          "output_type": "stream",
          "name": "stdout",
          "text": [
            "\n",
            "OPERASI ARITMETIKA\n",
            "a = 10 , b = 3\n",
            "Penjumlahan = 13\n",
            "Pengurangan = 7\n",
            "Perkalian = 30\n",
            "Pembagian = 3.3333333333333335\n",
            "Pembagian Bulat = 3\n",
            "Modulus = 1\n",
            "Pangkat = 1000\n",
            "\n",
            "OPERASI ARITMETIKA\n",
            "a = 10 , b = 3\n",
            "Penjumlahan = 13\n",
            "Pengurangan = 7\n",
            "Perkalian = 30\n",
            "Pembagian = 3.3333333333333335\n",
            "Pembagian Bulat = 3\n",
            "Modulus = 1\n",
            "Pangkat = 1000\n"
          ]
        }
      ]
    },
    {
      "cell_type": "code",
      "source": [
        "# 3. Operasi Perbandingan\n",
        "# Menghasilkan nilai Boolean (True/False)\n",
        "\n",
        "lebih_besar = a > b\n",
        "kurang_dari = a < b\n",
        "sama_dengan = a == b\n",
        "tidak_sama = a != b\n",
        "lebih_besar_sama = a >= b\n",
        "kurang_sama = a <= b\n",
        "print(\"\\nOPERASI PERBANDINGAN\")\n",
        "print(\"a > b =\", lebih_besar)\n",
        "print(\"a < b =\", kurang_dari)\n",
        "print(\"a == b =\", sama_dengan)\n",
        "print(\"a != b =\", tidak_sama)\n",
        "print(\"a >= b =\", lebih_besar_sama)\n",
        "print(\"a <= b =\", kurang_sama)\n"
      ],
      "metadata": {
        "id": "Vrdks-9AHG0G",
        "outputId": "9716f0a9-86c9-4781-8e7a-587a8d66551c",
        "colab": {
          "base_uri": "https://localhost:8080/"
        }
      },
      "execution_count": 43,
      "outputs": [
        {
          "output_type": "stream",
          "name": "stdout",
          "text": [
            "\n",
            "OPERASI PERBANDINGAN\n",
            "a > b = True\n",
            "a < b = False\n",
            "a == b = False\n",
            "a != b = True\n",
            "a >= b = True\n",
            "a <= b = False\n"
          ]
        }
      ]
    },
    {
      "cell_type": "code",
      "source": [
        "# 4. Operasi Logika\n",
        "# and, or, not\n",
        "\n",
        "x = True\n",
        "y = False\n",
        "\n",
        "logika_and = x and y\n",
        "logika_or = x or y\n",
        "logika_not_x = not x\n",
        "\n",
        "print(\"OPERASI LOGIKA\")\n",
        "print(\"x =\", x, \", y =\", y)\n",
        "print(\"x and y =\", logika_and)\n",
        "print(\"x or y =\", logika_or)\n",
        "print(\"not x =\", logika_not_x)\n",
        "\n",
        "# 5. Contoh penggunaan di dalam percabangan\n",
        "if a > b and b > 0:\n",
        " print(\"\\nKondisi terpenuhi: a lebih besar dari b, dan b masih positif.\")\n",
        "else:\n",
        " print(\"\\nKondisi tidak terpenuhi atau b <= 0.\")\n"
      ],
      "metadata": {
        "id": "sHIH0lS1HbAr",
        "outputId": "90452a27-319b-4a43-b3fb-472afd4d391b",
        "colab": {
          "base_uri": "https://localhost:8080/"
        }
      },
      "execution_count": 47,
      "outputs": [
        {
          "output_type": "stream",
          "name": "stdout",
          "text": [
            "OPERASI LOGIKA\n",
            "x = True , y = False\n",
            "x and y = False\n",
            "x or y = True\n",
            "not x = False\n",
            "\n",
            "Kondisi terpenuhi: a lebih besar dari b, dan b masih positif.\n"
          ]
        }
      ]
    },
    {
      "cell_type": "markdown",
      "source": [
        "**PRAKTIKUM 03. PERCABANGAN**"
      ],
      "metadata": {
        "id": "YnRTRgNII71n"
      }
    },
    {
      "cell_type": "code",
      "source": [
        "# -*- coding: utf-8 -*-\n",
        "\n",
        "# 1. IF Sederhana\n",
        "\n",
        "# Program hanya mengeksekusi blok jika kondisinya True\n",
        "nilai = 85\n",
        "print(\"Contoh IF Sederhana:\")\n",
        "if nilai > 80:\n",
        " print(\"Selamat! Anda lulus dengan nilai tinggi.\\n\")"
      ],
      "metadata": {
        "id": "LPgUUERNJFU1",
        "outputId": "b0751b9d-b225-4be8-c30d-dc7eb1be24b6",
        "colab": {
          "base_uri": "https://localhost:8080/"
        }
      },
      "execution_count": 48,
      "outputs": [
        {
          "output_type": "stream",
          "name": "stdout",
          "text": [
            "Contoh IF Sederhana:\n",
            "Selamat! Anda lulus dengan nilai tinggi.\n",
            "\n"
          ]
        }
      ]
    },
    {
      "cell_type": "code",
      "source": [
        "# 2. IF-ELSE\n",
        "# Jika kondisi True, eksekusi blok if; jika False, eksekusi blok else\n",
        "\n",
        "umur = 17\n",
        "print(\"Contoh IF-ELSE:\")\n",
        "if umur >= 18:\n",
        " print(\"Anda sudah cukup umur untuk mendapatkan SIM.\")\n",
        "else:\n",
        " print(\"Anda belum cukup umur untuk mendapatkan SIM.\\n\")"
      ],
      "metadata": {
        "id": "UO95IKQtJdgx",
        "outputId": "030a46fa-3cd5-4956-ee65-97aeec46fa0f",
        "colab": {
          "base_uri": "https://localhost:8080/"
        }
      },
      "execution_count": 51,
      "outputs": [
        {
          "output_type": "stream",
          "name": "stdout",
          "text": [
            "Contoh IF-ELSE:\n",
            "Anda belum cukup umur untuk mendapatkan SIM.\n",
            "\n"
          ]
        }
      ]
    },
    {
      "cell_type": "code",
      "source": [
        "# 3. IF-ELIF-ELSE\n",
        "# Menangani banyak kondisi secara berurutan.\n",
        "# Jika ada kondisi yang terpenuhi, blok yang bersangkutan dieksekusi,\n",
        "# lalu program melewati blok kondisi setelahnya.\n",
        "\n",
        "hari = \"Rabu\"\n",
        "print(\"Contoh IF-ELIF-ELSE:\")\n",
        "if hari == \"Senin\":\n",
        " print(\"Hari Senin - Saatnya kembali bekerja!\")\n",
        "elif hari == \"Selasa\":\n",
        " print(\"Hari Selasa - Jadwal rapat mingguan.\")\n",
        "elif hari == \"Rabu\":\n",
        " print(\"Hari Rabu - Ada diskon di beberapa toko.\")\n",
        "else:\n",
        " print(\"Hari lainnya - Atur jadwalmu dengan baik.\\n\")"
      ],
      "metadata": {
        "id": "1Rol3u_KJsZd",
        "outputId": "8748e8b0-294a-4e3c-9d17-8c79ec8518e6",
        "colab": {
          "base_uri": "https://localhost:8080/"
        }
      },
      "execution_count": 50,
      "outputs": [
        {
          "output_type": "stream",
          "name": "stdout",
          "text": [
            "Contoh IF-ELIF-ELSE:\n",
            "Hari Rabu - Ada diskon di beberapa toko.\n"
          ]
        }
      ]
    },
    {
      "cell_type": "code",
      "source": [
        "# 4. IF Bersarang (Nested IF)\n",
        "# Kondisi di dalam kondisi, biasa digunakan jika kita perlu\n",
        "# memeriksa sub-kondisi setelah kondisi pertama terpenuhi.\n",
        "\n",
        "suhu = 35\n",
        "print(\"Contoh IF Bersarang (Nested IF):\")\n",
        "if suhu > 30:\n",
        " print(\"Cuaca cukup panas.\")\n",
        " if suhu > 40:\n",
        "  print(\"Bahkan sangat terik! Disarankan banyak minum air.\")\n",
        " else:\n",
        "  print(\"Masih relatif normal, tapi tetap jaga kesehatan.\")\n",
        "else:\n",
        " print(\"Cuaca sepertinya cukup sejuk.\\n\")\n"
      ],
      "metadata": {
        "id": "KpiRaH_tJspD",
        "outputId": "221dfe5d-7a58-4376-e59a-e4441e757d3f",
        "colab": {
          "base_uri": "https://localhost:8080/"
        }
      },
      "execution_count": 54,
      "outputs": [
        {
          "output_type": "stream",
          "name": "stdout",
          "text": [
            "Contoh IF Bersarang (Nested IF):\n",
            "Cuaca cukup panas.\n",
            "Masih relatif normal, tapi tetap jaga kesehatan.\n"
          ]
        }
      ]
    },
    {
      "cell_type": "code",
      "source": [
        "# 5. Menggabungkan Percabangan dengan Operasi Logika\n",
        "# Memeriksa beberapa kondisi sekaligus dengan and, or, not\n",
        "\n",
        "nilai_teori = 75\n",
        "nilai_praktik = 80\n",
        "print(\"Contoh IF dengan Operasi Logika AND/OR:\")\n",
        "if nilai_teori >= 70 and nilai_praktik >= 70:\n",
        " print(\"Anda lulus karena nilai teori dan praktik memadai.\")\n",
        "elif nilai_teori < 70 and nilai_praktik < 70:\n",
        " print(\"Anda perlu meningkatkan nilai teori dan praktik.\")\n",
        "elif nilai_teori < 70:\n",
        " print(\"Anda perlu meningkatkan nilai teori.\")\n",
        "else:\n",
        " print(\"Anda perlu meningkatkan nilai praktik.\\n\")"
      ],
      "metadata": {
        "id": "jlj7RawhKHEs",
        "outputId": "de6828fa-9805-461c-8c5d-21026c64ad37",
        "colab": {
          "base_uri": "https://localhost:8080/"
        }
      },
      "execution_count": 55,
      "outputs": [
        {
          "output_type": "stream",
          "name": "stdout",
          "text": [
            "Contoh IF dengan Operasi Logika AND/OR:\n",
            "Anda lulus karena nilai teori dan praktik memadai.\n"
          ]
        }
      ]
    },
    {
      "cell_type": "code",
      "source": [
        "# 6. Penggunaan If Ternary (atau Conditional Expression)\n",
        "# Bentuk ringkas: <hasil_if_true> if <kondisi> else <hasil_if_false>\n",
        "\n",
        "angka = -5\n",
        "print(\"Contoh If Ternary (Conditional Expression):\")\n",
        "status = \"Positif\" if angka > 0 else \"Negatif atau Nol\"\n",
        "print(\"Angka =\", angka, \"=>\", status)\n"
      ],
      "metadata": {
        "id": "AABLI4yKLKaz",
        "outputId": "6f464ce9-100a-4705-8ead-5aabb3ff4bcd",
        "colab": {
          "base_uri": "https://localhost:8080/"
        }
      },
      "execution_count": 57,
      "outputs": [
        {
          "output_type": "stream",
          "name": "stdout",
          "text": [
            "Contoh If Ternary (Conditional Expression):\n",
            "Angka = -5 => Negatif atau Nol\n"
          ]
        }
      ]
    },
    {
      "cell_type": "markdown",
      "source": [
        "**PRAKTIKUM 04. PERULANGAN**"
      ],
      "metadata": {
        "id": "TihqiNK1LVLJ"
      }
    },
    {
      "cell_type": "code",
      "source": [
        "# -*- coding: utf-8 -*- 02:\n",
        "# 1. FOR Loop dengan range()\n",
        "print(\"1) FOR loop dengan range()\")\n",
        "for i in range(5):\n",
        " print(\"Perulangan ke-\", i)\n",
        "# range(5) menghasilkan nilai 0, 1, 2, 3, dan 4\n",
        "# Sehingga perulangan akan berjalan sebanyak 5 kali\n",
        "print() # pemisah output,kayak enter\n",
        "\n",
        "# 2. FOR Loop untuk mengiterasi List\n",
        "print(\"2) FOR loop mengiterasi list\")\n",
        "buah = [\"apel\", \"mangga\", \"jeruk\", \"pisang\"]\n",
        "for item in buah:\n",
        " print(\"Buah:\", item)\n",
        "# Loop akan mengeksekusi setiap elemen dalam list \"buah\"\n",
        "print()\n",
        "\n",
        "# 3. WHILE Loop\n",
        "print(\"3) WHILE loop sederhana\")\n",
        "count = 0\n",
        "while count < 5:\n",
        " print(\"count =\", count)\n",
        " count += 1 # increment\n",
        "# Perulangan while terus dijalankan selama kondisi (count < 5) bernilai True\n",
        "\n",
        "print()\n",
        "\n",
        "# 4. BREAK pada Loop\n",
        "print(\"4) BREAK di dalam loop\")\n",
        "for i in range(10):\n",
        " if i == 3:\n",
        "  print(\"Loop dihentikan pada i =\", i)\n",
        "  break # mengakhiri loop saat i = 3\n",
        " print(\"i =\", i)\n",
        "# Keyword break langsung menghentikan keseluruhan perulangan\n",
        "\n",
        "print()\n",
        "\n",
        "# 5. CONTINUE pada Loop\n",
        "print(\"5) CONTINUE di dalam loop\")\n",
        "for i in range(5):\n",
        " if i == 2:\n",
        "  print(\"Lewati i =\", i, \"dengan continue\")\n",
        "  continue # melewati iterasi saat ini dan lanjut ke iterasi berikutnya\n",
        " print(\"i =\", i)\n",
        "# Saat i = 2, baris print(\"i =\", i) tidak akan dieksekusi\n",
        "\n",
        "print()\n",
        "\n",
        "# 6. NESTED Loop (Loop Bersarang) 54: print(\"6) NESTED loop\")\n",
        "55: for i in range(3):\t# Loop luar (outer loop) 56:\tfor j in range(2):\t# Loop dalam (inner loop) 57:\t\tprint(f\"i={i}, j={j}\")\n",
        "58: # Pada setiap iterasi i, loop j akan berjalan dari 0 sampai 1 59:\n",
        "60: print()\n",
        "\n",
        "# 7. Memanfaatkan ELSE pada Loop\n",
        "63: print(\"7) ELSE pada loop for/while\")\n",
        "64: # Python memiliki fitur unik: blok else pada loop\n",
        "65: # Blok else akan dieksekusi jika loop selesai tanpa di-break. 66:\n",
        "67: for x in range(3):\n",
        "68:\tprint(\"x =\", x) 69: else:\n",
        "70:\tprint(\"Loop for telah selesai tanpa break.\\n\") 71:\n",
        "72: y = 0\n",
        "73: while y < 3:\n",
        "74:\tprint(\"y =\", y)\n",
        "75:\ty += 1\n",
        "76: else:\n",
        "77:\tprint(\"Loop while telah selesai tanpa break.\\n\")\n",
        "\n",
        "# 8. PASS sebagai placeholder\n",
        "print(\"8) PASS (placeholder)\")\n",
        "for i in range(3):\n",
        "if i == 1:\n",
        "pass # pass tidak melakukan apa-apa, digunakan sebagai placeholder print(\"i =\", i)\n"
      ],
      "metadata": {
        "id": "SC8Yq7lmLbgO",
        "outputId": "bd1c8cb8-c598-4893-fb80-5ede6425cb2e",
        "colab": {
          "base_uri": "https://localhost:8080/"
        }
      },
      "execution_count": 7,
      "outputs": [
        {
          "output_type": "stream",
          "name": "stdout",
          "text": [
            "1) FOR loop dengan range()\n",
            "Perulangan ke- 0\n",
            "Perulangan ke- 1\n",
            "Perulangan ke- 2\n",
            "Perulangan ke- 3\n",
            "Perulangan ke- 4\n",
            "\n",
            "2) FOR loop mengiterasi list\n",
            "Buah: apel\n",
            "Buah: mangga\n",
            "Buah: jeruk\n",
            "Buah: pisang\n",
            "\n",
            "3) WHILE loop sederhana\n",
            "count = 0\n",
            "count = 1\n",
            "count = 2\n",
            "count = 3\n",
            "count = 4\n",
            "\n",
            "4) BREAK di dalam loop\n",
            "i = 0\n",
            "i = 1\n",
            "i = 2\n",
            "Loop dihentikan pada i = 3\n",
            "\n",
            "5) CONTINUE di dalam loop\n",
            "i = 0\n",
            "i = 1\n",
            "Lewati i = 2 dengan continue\n",
            "i = 3\n",
            "i = 4\n",
            "\n"
          ]
        }
      ]
    }
  ]
}