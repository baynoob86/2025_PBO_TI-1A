{
  "nbformat": 4,
  "nbformat_minor": 0,
  "metadata": {
    "colab": {
      "provenance": [],
      "authorship_tag": "ABX9TyNBJB60E+x7J+iRESONI+Zj",
      "include_colab_link": true
    },
    "kernelspec": {
      "name": "python3",
      "display_name": "Python 3"
    },
    "language_info": {
      "name": "python"
    }
  },
  "cells": [
    {
      "cell_type": "markdown",
      "metadata": {
        "id": "view-in-github",
        "colab_type": "text"
      },
      "source": [
        "<a href=\"https://colab.research.google.com/github/baynoob86/2025_PBO_TI-1A/blob/main/Jobsheet5PBO.ipynb\" target=\"_parent\"><img src=\"https://colab.research.google.com/assets/colab-badge.svg\" alt=\"Open In Colab\"/></a>"
      ]
    },
    {
      "cell_type": "markdown",
      "source": [
        "# Praktikum 1 Polimorfisme dengan Inheritance dan Overriding\n"
      ],
      "metadata": {
        "id": "H3K996dVcKfB"
      }
    },
    {
      "cell_type": "code",
      "execution_count": null,
      "metadata": {
        "id": "cUTpyTMI-k_s",
        "colab": {
          "base_uri": "https://localhost:8080/"
        },
        "outputId": "0c8f9378-b2e9-4c00-8ded-4eb5a79c17e0"
      },
      "outputs": [
        {
          "output_type": "stream",
          "name": "stdout",
          "text": [
            "\n",
            "Aksi Burung:\n",
            "-- Aksi untuk Burung Misterius --\n",
            "Burung Misterius terbang dengan cara umum\n",
            "Burung Misterius mengeluarkan suara burung\n",
            "---------------\n",
            "-- Aksi untuk Pipit Gereja --\n",
            "Pipit Gereja terbang cepat di antara pepohonan\n",
            "Pipit Gereja berkicau merdu: Cit cit!\n",
            "---------------\n",
            "-- Aksi untuk Elang Jawa --\n",
            "Elang Jawa terbang tinggi melayang di angkasa\n",
            "Elang Jawa berteriak nyaring!\n",
            "---------------\n"
          ]
        }
      ],
      "source": [
        "class Burung:\n",
        "  def __init__(self,nama):\n",
        "    self.nama=nama\n",
        "  def terbang(self):\n",
        "    print(f\"{self.nama} terbang dengan cara umum\")\n",
        "  def bersuara(self):\n",
        "    print(f\"{self.nama} mengeluarkan suara burung\")\n",
        "\n",
        "class Elang(Burung):\n",
        "  def __init__(self,nama,rentang_sayap):\n",
        "    super().__init__(nama)\n",
        "    self.rentang_sayap= rentang_sayap\n",
        "  def terbang(self):\n",
        "    print(f\"{self.nama} terbang tinggi melayang di angkasa\")\n",
        "  def bersuara(self):\n",
        "    print(f\"{self.nama} berteriak nyaring!\")\n",
        "\n",
        "class Pipit(Burung):\n",
        "  def __init__(self,nama,warna_bulu):\n",
        "    super().__init__(nama)\n",
        "    self.warna_bulu=warna_bulu\n",
        "  def terbang(self):\n",
        "    print(f\"{self.nama} terbang cepat di antara pepohonan\")\n",
        "  def bersuara(self):\n",
        "    print(f\"{self.nama} berkicau merdu: Cit cit!\")\n",
        "\n",
        "def demonstrasi_aksi_burung(daftar_burung):\n",
        "  print(\"\\nAksi Burung:\")\n",
        "  for burung in daftar_burung:\n",
        "    print(f\"-- Aksi untuk {burung.nama} --\")\n",
        "    burung.terbang()\n",
        "    burung.bersuara()\n",
        "    print(\"-\"*15)\n",
        "\n",
        "if __name__==\"__main__\":\n",
        "    elang_jawa=Elang(\"Elang Jawa\",1.5)\n",
        "    pipit_gereja=Pipit(\"Pipit Gereja\",\"Coklat\")\n",
        "    burung_aneh= Burung(\"Burung Misterius\")\n",
        "\n",
        "    koleksi_burung={elang_jawa,pipit_gereja,burung_aneh}\n",
        "    demonstrasi_aksi_burung(koleksi_burung)"
      ]
    },
    {
      "cell_type": "markdown",
      "source": [
        "# Praktikum 02: Polimorfisme dengan Duck Typing"
      ],
      "metadata": {
        "id": "yosxvIYMUAHK"
      }
    },
    {
      "cell_type": "code",
      "source": [
        "class Kucing:\n",
        "  def bersuara(self):\n",
        "    print(\"Kucing: Meow!\")\n",
        "class Anjing:\n",
        "  def bersuara(self):\n",
        "    print(\"Anjing: Guk guk!\")\n",
        "class Bebek:\n",
        "  def bersuara(self):\n",
        "    print(\"Bebek: Kwek kwek!\")\n",
        "class Mobil:\n",
        "  def jalankan(self):\n",
        "    print(\"Mobil: Brumm!\")\n",
        "\n",
        "def buat_suara(objek_yg_bisa_bersuara):\n",
        "  try:\n",
        "    objek_yg_bisa_bersuara.bersuara()\n",
        "  except:\n",
        "    print(f\"Objek {type(objek_yg_bisa_bersuara).__name__} tidak bisa bersuara\")\n",
        "\n",
        "if __name__==\"__main__\":\n",
        "  kucing1=Kucing()\n",
        "  anjing1=Anjing()\n",
        "  bebek1=Bebek()\n",
        "  mobil1=Mobil()\n",
        "  daftar_objek= [kucing1,anjing1,bebek1,mobil1]\n",
        "  print(\"Demonstrasi Duck Typing:\")\n",
        "  for item in daftar_objek:\n",
        "    buat_suara(item)\n"
      ],
      "metadata": {
        "colab": {
          "base_uri": "https://localhost:8080/"
        },
        "id": "LP0HaXBTb5kX",
        "outputId": "2f6941f3-447f-4560-bec3-8139e18b0739"
      },
      "execution_count": null,
      "outputs": [
        {
          "output_type": "stream",
          "name": "stdout",
          "text": [
            "Demonstrasi Duck Typing:\n",
            "Kucing: Meow!\n",
            "Anjing: Guk guk!\n",
            "Bebek: Kwek kwek!\n",
            "Objek Mobil tidak bisa bersuara\n"
          ]
        }
      ]
    },
    {
      "cell_type": "markdown",
      "source": [
        "#Praktikum 03: Simulasi Overloading dalam Metode Kelas dengan *args"
      ],
      "metadata": {
        "id": "aNjIgXm3UH2k"
      }
    },
    {
      "cell_type": "code",
      "source": [
        "class KalkulatorSederhana:\n",
        "  def __init__(self,nama=\"Kalkulator\"):\n",
        "    self.nama=nama\n",
        "    print(f\"{self.nama} siap digunakan\")\n",
        "  def tambah(self,*args):\n",
        "    if not args:\n",
        "      print(\"Tidak ada angka untuk dijumlah.\")\n",
        "      return 0\n",
        "    total=0\n",
        "    valid_input=True\n",
        "    for angka in args:\n",
        "      if isinstance(angka,(int,float)):\n",
        "        total += angka\n",
        "      else:\n",
        "        print(f\"Peringatan: Argumen '{angka}' bukan angka dan akan diabaikan\")\n",
        "    valid_input=False\n",
        "    if valid_input:\n",
        "      print(f\"Hasil penjumlahan: {total}\")\n",
        "    else:\n",
        "      print(f\"Hasil Penjumlahan (input diabaikan): {total}\")\n",
        "      return total\n",
        "\n",
        "if __name__==\"__main__\":\n",
        "  calc= KalkulatorSederhana(\"Calc-01\")\n",
        "\n",
        "  print(\"\\n--- Percobaan Penjumlahan ---\")\n",
        "  calc.tambah(5,10)\n",
        "  calc.tambah(2,3,5,10)\n",
        "  calc.tambah(100)\n",
        "  calc.tambah()\n",
        "  calc.tambah(1,2,\"tiga\",4,5.5)"
      ],
      "metadata": {
        "id": "cBKgmDOsUS0d",
        "colab": {
          "base_uri": "https://localhost:8080/"
        },
        "outputId": "8565141b-34a3-4d3c-caff-ca4b50db1364"
      },
      "execution_count": null,
      "outputs": [
        {
          "output_type": "stream",
          "name": "stdout",
          "text": [
            "Calc-01 siap digunakan\n",
            "\n",
            "--- Percobaan Penjumlahan ---\n",
            "Hasil Penjumlahan (input diabaikan): 15\n",
            "Hasil Penjumlahan (input diabaikan): 20\n",
            "Hasil Penjumlahan (input diabaikan): 100\n",
            "Tidak ada angka untuk dijumlah.\n",
            "Peringatan: Argumen 'tiga' bukan angka dan akan diabaikan\n",
            "Hasil Penjumlahan (input diabaikan): 12.5\n"
          ]
        }
      ]
    },
    {
      "cell_type": "markdown",
      "source": [
        "# Praktikum 04: Simulasi Overloading dalam Metode Kelas dengan *args dan **kwargs"
      ],
      "metadata": {
        "id": "Z9KjnHJ2UNBW"
      }
    },
    {
      "cell_type": "code",
      "source": [
        "class DataProcessor:\n",
        "  def __init__(self,processor_id):\n",
        "    self.processor_id= processor_id\n",
        "    print(f\"Data Processor {self.processor_id} siap\")\n",
        "  def process(self,*args,**kwargs):\n",
        "    print(f\"\\n--- {self.processor_id} Memproses Data ---\")\n",
        "    if args:\n",
        "      print(\"Argumen Posisi Diterima:\")\n",
        "      for i,arg in enumerate(args):\n",
        "        print(f\"args[{i}]: {arg} (tipe: {type(arg).__name__}) \")\n",
        "      else:\n",
        "        print(\"Ndak ada argumen posisi\")\n",
        "    if kwargs:\n",
        "      print(\"Argumen Kata Kunci Diterima:\")\n",
        "      for kunci,nilai in kwargs.items():\n",
        "        print(f\"{kunci}: {nilai} (tipe: {type(nilai).__name__})\")\n",
        "      else:\n",
        "        print(\"Tidak ada argumen kata kunci.\")\n",
        "      print(\"-------------------------------\")\n",
        "\n",
        "if __name__==\"__main__\":\n",
        "  processor1= DataProcessor(\"DP-001\")\n",
        "\n",
        "  print(\"\\nPanggilan 1: Tanpa argumen tambahan\")\n",
        "  processor1.process()\n",
        "\n",
        "  print(\"\\nPanggilan 2: Hanya argumen posisi\")\n",
        "  processor1.process(100,\"Status OK\",99.9,False)\n",
        "\n",
        "  print(\"\\nPAnggilan 3:Hanya argumen kata kunci\")\n",
        "  processor1.process(user=\"admin\",level=5,mode=\"verbose\")\n",
        "\n",
        "  print(\"\\nPanggilan 4: Kombinasi argumen posisi dan kata kunci\")\n",
        "  processor1.process(\"Task-A\",\"Task-B\",status= \"Running\",priority=\"High\",thread_id=54321)\n",
        "\n",
        "  print(\"\\nPanggilan 5: argumen posisi kompleks\")\n",
        "  list_ids=[\"A1\",\"B2\",\"C3\"]\n",
        "  dict_params={\"timeout\":30,\"retrty\":3}\n",
        "  processor1.process(list_ids,dict_params,owner=\"system\",enabled=True)"
      ],
      "metadata": {
        "id": "LFcGGq3ZUTlb",
        "colab": {
          "base_uri": "https://localhost:8080/"
        },
        "outputId": "61cff9e3-52e3-482d-8d44-d6ffc78d43c8"
      },
      "execution_count": 1,
      "outputs": [
        {
          "output_type": "stream",
          "name": "stdout",
          "text": [
            "Data Processor DP-001 siap\n",
            "\n",
            "Panggilan 1: Tanpa argumen tambahan\n",
            "\n",
            "--- DP-001 Memproses Data ---\n",
            "\n",
            "Panggilan 2: Hanya argumen posisi\n",
            "\n",
            "--- DP-001 Memproses Data ---\n",
            "Argumen Posisi Diterima:\n",
            "args[0]: 100 (tipe: int) \n",
            "args[1]: Status OK (tipe: str) \n",
            "args[2]: 99.9 (tipe: float) \n",
            "args[3]: False (tipe: bool) \n",
            "Ndak ada argumen posisi\n",
            "\n",
            "PAnggilan 3:Hanya argumen kata kunci\n",
            "\n",
            "--- DP-001 Memproses Data ---\n",
            "Argumen Kata Kunci Diterima:\n",
            "user: admin (tipe: str)\n",
            "level: 5 (tipe: int)\n",
            "mode: verbose (tipe: str)\n",
            "Tidak ada argumen kata kunci.\n",
            "-------------------------------\n",
            "\n",
            "Panggilan 4: Kombinasi argumen posisi dan kata kunci\n",
            "\n",
            "--- DP-001 Memproses Data ---\n",
            "Argumen Posisi Diterima:\n",
            "args[0]: Task-A (tipe: str) \n",
            "args[1]: Task-B (tipe: str) \n",
            "Ndak ada argumen posisi\n",
            "Argumen Kata Kunci Diterima:\n",
            "status: Running (tipe: str)\n",
            "priority: High (tipe: str)\n",
            "thread_id: 54321 (tipe: int)\n",
            "Tidak ada argumen kata kunci.\n",
            "-------------------------------\n",
            "\n",
            "Panggilan 5: argumen posisi kompleks\n",
            "\n",
            "--- DP-001 Memproses Data ---\n",
            "Argumen Posisi Diterima:\n",
            "args[0]: ['A1', 'B2', 'C3'] (tipe: list) \n",
            "args[1]: {'timeout': 30, 'retrty': 3} (tipe: dict) \n",
            "Ndak ada argumen posisi\n",
            "Argumen Kata Kunci Diterima:\n",
            "owner: system (tipe: str)\n",
            "enabled: True (tipe: bool)\n",
            "Tidak ada argumen kata kunci.\n",
            "-------------------------------\n"
          ]
        }
      ]
    },
    {
      "cell_type": "markdown",
      "source": [
        "#Praktikum 05: Kombinasi Polimorfisme (Inheritance & Duck Typing)"
      ],
      "metadata": {
        "id": "D3ImGKUGURrI"
      }
    },
    {
      "cell_type": "code",
      "source": [
        "import math\n",
        "\n",
        "# --- Definisi Kelas dari Hierarki Inheritance ---\n",
        "class Bentuk:\n",
        "    # Metode ini bisa dianggap sebagai 'template' atau interface dasar\n",
        "    def nama_bentuk(self):\n",
        "        return \"Bentuk Generik\"\n",
        "\n",
        "    # Metode ini wajib di-override oleh subclass\n",
        "    def hitung_luas(self):\n",
        "        raise NotImplementedError(\"Subclass harus mengimplementasikan metode ini\")\n",
        "\n",
        "class Lingkaran(Bentuk):\n",
        "    def __init__(self, radius):\n",
        "        self.radius = radius\n",
        "\n",
        "    # Override\n",
        "    def nama_bentuk(self):\n",
        "        return \"Lingkaran\"\n",
        "\n",
        "    # Override\n",
        "    def hitung_luas(self):\n",
        "        return math.pi * (self.radius ** 2)\n",
        "\n",
        "class Persegi(Bentuk):\n",
        "    def __init__(self, sisi):\n",
        "        self.sisi = sisi\n",
        "\n",
        "    # Override\n",
        "    def nama_bentuk(self):\n",
        "        return \"Persegi\"\n",
        "\n",
        "    # Override\n",
        "    def hitung_luas(self):\n",
        "        return self.sisi * self.sisi\n",
        "\n",
        "# --- Definisi Kelas Lain (Tidak Terkait Inheritance dengan Bentuk) ---\n",
        "class TaplakMeja:\n",
        "    def __init__(self, panjang, lebar):\n",
        "        self.panjang = panjang\n",
        "        self.lebar = lebar\n",
        "\n",
        "    # Metode dengan nama sama -> 'hitung_luas'\n",
        "    # Ini memungkinkan TaplakMeja bekerja dengan fungsi polimorfik di bawah\n",
        "    def hitung_luas(self):\n",
        "        return self.panjang * self.lebar\n",
        "\n",
        "    # Metode yang berbeda, tidak ada di kelas Bentuk\n",
        "    def deskripsi(self):\n",
        "        return f\"Taplak Meja {self.panjang}x{self.lebar}\"\n",
        "\n",
        "# --- Fungsi Polimorfik ---\n",
        "def tampilkan_info_luas(objek_dengan_luas):\n",
        "    print(\"-\" * 20)\n",
        "    try:\n",
        "        # Mencoba memanggil hitung_luas() - inti polimorfisme\n",
        "        luas = objek_dengan_luas.hitung_luas()\n",
        "\n",
        "        # Mencoba mendapatkan nama jika ada (duck typing tambahan)\n",
        "        try:\n",
        "            nama = objek_dengan_luas.nama_bentuk()\n",
        "        except AttributeError:\n",
        "            # Jika tidak ada nama_bentuk(), gunakan nama kelasnya\n",
        "            nama = type(objek_dengan_luas).__name__\n",
        "\n",
        "        print(f\"Objek: {nama}\")\n",
        "        print(f\"Luas : {luas:.2f}\")  # Format luas 2 angka desimal\n",
        "\n",
        "    except AttributeError:\n",
        "        # Menangani jika objek sama sekali tidak punya .hitung_luas()\n",
        "        print(f\"Objek {type(objek_dengan_luas).__name__} tidak dapat dihitung luasnya (metode tidak ditemukan).\")\n",
        "    except NotImplementedError:\n",
        "        # Menangani jika metode ada tapi belum diimplementasi (dari kelas Bentuk)\n",
        "        print(f\"Metode 'hitung_luas' belum diimplementasi untuk {type(objek_dengan_luas).__name__}.\")\n",
        "\n",
        "# --- Kode Utama ---\n",
        "if __name__ == \"__main__\":\n",
        "    lingkaran1 = Lingkaran(7)\n",
        "    persegi1 = Persegi(5)\n",
        "    taplak1 = TaplakMeja(1.5, 0.8)\n",
        "    bentuk_dasar = Bentuk()  # Objek kelas induk (akan raise NotImplementedError)\n",
        "    string_biasa = \"Ini string\"  # Objek yang tidak relevan\n",
        "\n",
        "    daftar_item = [lingkaran1, persegi1, taplak1, bentuk_dasar, string_biasa]\n",
        "\n",
        "    print(\"Menampilkan Info Luas (Polimorfisme Campuran):\")\n",
        "    for item in daftar_item:\n",
        "        tampilkan_info_luas(item)\n"
      ],
      "metadata": {
        "id": "4efnr5fBUYlZ",
        "colab": {
          "base_uri": "https://localhost:8080/"
        },
        "outputId": "e0ee7150-9b6e-41f1-8e68-f5d06cc4fe87"
      },
      "execution_count": 2,
      "outputs": [
        {
          "output_type": "stream",
          "name": "stdout",
          "text": [
            "Menampilkan Info Luas (Polimorfisme Campuran):\n",
            "--------------------\n",
            "Objek: Lingkaran\n",
            "Luas : 153.94\n",
            "--------------------\n",
            "Objek: Persegi\n",
            "Luas : 25.00\n",
            "--------------------\n",
            "Objek: TaplakMeja\n",
            "Luas : 1.20\n",
            "--------------------\n",
            "Metode 'hitung_luas' belum diimplementasi untuk Bentuk.\n",
            "--------------------\n",
            "Objek str tidak dapat dihitung luasnya (metode tidak ditemukan).\n"
          ]
        }
      ]
    },
    {
      "cell_type": "markdown",
      "source": [
        "#Praktikum 06: Kontrol Perilaku Polimorfik dengan isinstance()\n"
      ],
      "metadata": {
        "id": "dpk9r61LUZzH"
      }
    },
    {
      "cell_type": "code",
      "source": [
        "# --- Definisi Kelas Burung, Elang, Pipit ---\n",
        "class Burung:\n",
        "    def __init__(self, nama):\n",
        "        self.nama = nama\n",
        "\n",
        "    def terbang(self):\n",
        "        print(f\"{self.nama} terbang dengan cara umum.\")\n",
        "\n",
        "    def bersuara(self):\n",
        "        print(f\"{self.nama} mengeluarkan suara burung.\")\n",
        "\n",
        "\n",
        "class Elang(Burung):\n",
        "    def __init__(self, nama, rentang_sayap):\n",
        "        super().__init__(nama)\n",
        "        self.rentang_sayap = rentang_sayap\n",
        "\n",
        "    # Override\n",
        "    def terbang(self):\n",
        "        print(f\"{self.nama} terbang tinggi melayang di angkasa.\")\n",
        "\n",
        "    # Override\n",
        "    def bersuara(self):\n",
        "        print(f\"{self.nama} berteriak nyaring!\")\n",
        "\n",
        "    # Metode khusus Elang\n",
        "    def berburu(self):\n",
        "        print(f\"{self.nama} sedang mencari mangsa dari ketinggian.\")\n",
        "\n",
        "\n",
        "class Pipit(Burung):\n",
        "    def __init__(self, nama, warna_bulu):\n",
        "        super().__init__(nama)\n",
        "        self.warna_bulu = warna_bulu\n",
        "\n",
        "    # Override\n",
        "    def terbang(self):\n",
        "        print(f\"{self.nama} terbang cepat di antara pepohonan.\")\n",
        "\n",
        "    # Override\n",
        "    def bersuara(self):\n",
        "        print(f\"{self.nama} berkicau merdu: Cit cit!\")\n",
        "\n",
        "    # Metode khusus Pipit\n",
        "    def membangun_sarang(self):\n",
        "        print(f\"{self.nama} sedang mengumpulkan ranting untuk sarang.\")\n",
        "\n",
        "\n",
        "# --- Fungsi yang memanfaatkan polimorfisme DAN isinstance() ---\n",
        "def interaksi_dengan_burung(burung):\n",
        "    print(f\"\\n--- Berinteraksi dengan {type(burung).__name__}: {getattr(burung, 'nama', 'Objek tidak dikenal')} ---\")\n",
        "\n",
        "    # Cek dulu apakah objek adalah instance dari Burung atau turunannya\n",
        "    if isinstance(burung, Burung):\n",
        "        # Perilaku polimorfik dasar (memanggil metode override)\n",
        "        burung.terbang()\n",
        "        burung.bersuara()\n",
        "\n",
        "        # Menambahkan perilaku spesifik berdasarkan tipe turunan\n",
        "        if isinstance(burung, Elang):\n",
        "            print(\"-> Ini adalah Elang!\")\n",
        "            burung.berburu()\n",
        "        elif isinstance(burung, Pipit):\n",
        "            print(\"-> Ini adalah Pipit!\")\n",
        "            burung.membangun_sarang()\n",
        "        else:\n",
        "            print(\"-> Ini adalah burung jenis umum (bukan Elang/Pipit).\")\n",
        "    else:\n",
        "        print(\"-> Objek ini bukan termasuk jenis Burung.\")\n",
        "\n",
        "    print(\"-\" * 25)\n",
        "\n",
        "\n",
        "# --- Kode Utama ---\n",
        "if __name__ == \"__main__\":\n",
        "    elang_sumatra = Elang(\"Elang Sumatra\", 1.8)\n",
        "    pipit_rumah = Pipit(\"Pipit Rumah\", \"Abu-abu\")\n",
        "    merak = Burung(\"Merak\")  # Contoh Burung lain (induk)\n",
        "    kucing_tetangga = \"Meong\"  # Objek non-burung\n",
        "\n",
        "    koleksi_makhluk = [elang_sumatra, pipit_rumah, merak, kucing_tetangga]\n",
        "\n",
        "    for makhluk in koleksi_makhluk:\n",
        "        interaksi_dengan_burung(makhluk)\n"
      ],
      "metadata": {
        "id": "aFatAyOnUfjN",
        "colab": {
          "base_uri": "https://localhost:8080/"
        },
        "outputId": "c144ae44-81b4-48df-cea8-d464e383ab3e"
      },
      "execution_count": 3,
      "outputs": [
        {
          "output_type": "stream",
          "name": "stdout",
          "text": [
            "\n",
            "--- Berinteraksi dengan Elang: Elang Sumatra ---\n",
            "Elang Sumatra terbang tinggi melayang di angkasa.\n",
            "Elang Sumatra berteriak nyaring!\n",
            "-> Ini adalah Elang!\n",
            "Elang Sumatra sedang mencari mangsa dari ketinggian.\n",
            "-------------------------\n",
            "\n",
            "--- Berinteraksi dengan Pipit: Pipit Rumah ---\n",
            "Pipit Rumah terbang cepat di antara pepohonan.\n",
            "Pipit Rumah berkicau merdu: Cit cit!\n",
            "-> Ini adalah Pipit!\n",
            "Pipit Rumah sedang mengumpulkan ranting untuk sarang.\n",
            "-------------------------\n",
            "\n",
            "--- Berinteraksi dengan Burung: Merak ---\n",
            "Merak terbang dengan cara umum.\n",
            "Merak mengeluarkan suara burung.\n",
            "-> Ini adalah burung jenis umum (bukan Elang/Pipit).\n",
            "-------------------------\n",
            "\n",
            "--- Berinteraksi dengan str: Objek tidak dikenal ---\n",
            "-> Objek ini bukan termasuk jenis Burung.\n",
            "-------------------------\n"
          ]
        }
      ]
    },
    {
      "cell_type": "markdown",
      "source": [
        "# Tugas Praktek"
      ],
      "metadata": {
        "id": "LPA6yX6iv9hz"
      }
    },
    {
      "cell_type": "code",
      "source": [
        "class Komputer:\n",
        "    def __init__(self, merk, processor, ram_gb):\n",
        "        self.merk = merk\n",
        "        self.processor = processor\n",
        "        self.ram_gb = ram_gb\n",
        "\n",
        "    def info_spesifikasi(self):\n",
        "        print(f\"Merk: {self.merk}\")\n",
        "        print(f\"Processor: {self.processor}\")\n",
        "        print(f\"RAM: {self.ram_gb} GB\")\n",
        "\n",
        "    def jalankan_aplikasi(self, nama_aplikasi):\n",
        "        print(f\"{self.merk} menjalankan aplikasi: {nama_aplikasi}...\")\n",
        "\n",
        "    # Simulasi Overloading: Default Argument\n",
        "    def upgrade_ram(self, tambah_gb, tipe_ram=\"DDR4\"):\n",
        "        self.ram_gb += tambah_gb\n",
        "        print(f\"RAM {self.merk} diupgrade sebesar {tambah_gb} GB (Tipe: {tipe_ram}).\")\n",
        "        print(f\"Total RAM sekarang: {self.ram_gb} GB\")\n",
        "\n",
        "\n",
        "class Laptop(Komputer):\n",
        "    def __init__(self, merk, processor, ram_gb, ukuran_layar_inch, berat_kg):\n",
        "        super().__init__(merk, processor, ram_gb)\n",
        "        self.ukuran_layar_inch = ukuran_layar_inch\n",
        "        self.berat_kg = berat_kg\n",
        "\n",
        "    def info_spesifikasi(self):\n",
        "        super().info_spesifikasi()\n",
        "        print(f\"Ukuran Layar: {self.ukuran_layar_inch} inch\")\n",
        "        print(f\"Berat: {self.berat_kg} Kg\")\n",
        "\n",
        "\n",
        "class Desktop(Komputer):\n",
        "    def __init__(self, merk, processor, ram_gb, jenis_casing, monitor_external):\n",
        "        super().__init__(merk, processor, ram_gb)\n",
        "        self.jenis_casing = jenis_casing\n",
        "        self.monitor_external = monitor_external\n",
        "\n",
        "    def info_spesifikasi(self):\n",
        "        super().info_spesifikasi()\n",
        "        print(f\"Jenis Casing: {self.jenis_casing}\")\n",
        "        print(f\"Monitor External: {'Ya' if self.monitor_external else 'Tidak'}\")\n",
        "\n",
        "\n",
        "\n",
        "def semua_spesifikasi(daftar_komputer):\n",
        "    for komputer in daftar_komputer:\n",
        "        komputer.info_spesifikasi()\n",
        "        print(\"-\" * 30)\n",
        "\n",
        "\n",
        "# Kode Utama\n",
        "if __name__ == \"__main__\":\n",
        "    laptop1 = Laptop(\"ASUS\", \"Intel Core i7\", 16, 15.6, 1.8)\n",
        "    desktop1 = Desktop(\"Lenovo\", \"AMD Ryzen 5\", 8, \"Tower\", True)\n",
        "\n",
        "    daftar_komputer = [laptop1, desktop1]\n",
        "\n",
        "    print(\"--- Spesifikasi Semua Komputer ---\")\n",
        "    semua_spesifikasi(daftar_komputer)\n",
        "\n",
        "    laptop1.jalankan_aplikasi(\"Visual Studio Code\")\n",
        "\n",
        "    print(\"\\n--- Upgrade RAM ---\")\n",
        "    laptop1.upgrade_ram(8)\n",
        "    desktop1.upgrade_ram(16, \"DDR5\")\n"
      ],
      "metadata": {
        "colab": {
          "base_uri": "https://localhost:8080/"
        },
        "id": "CmgQVO9vwCT2",
        "outputId": "09f7c0db-e9fd-4c38-d373-573460351b5a"
      },
      "execution_count": 4,
      "outputs": [
        {
          "output_type": "stream",
          "name": "stdout",
          "text": [
            "--- Spesifikasi Semua Komputer ---\n",
            "Merk: ASUS\n",
            "Processor: Intel Core i7\n",
            "RAM: 16 GB\n",
            "Ukuran Layar: 15.6 inch\n",
            "Berat: 1.8 Kg\n",
            "------------------------------\n",
            "Merk: Lenovo\n",
            "Processor: AMD Ryzen 5\n",
            "RAM: 8 GB\n",
            "Jenis Casing: Tower\n",
            "Monitor External: Ya\n",
            "------------------------------\n",
            "ASUS menjalankan aplikasi: Visual Studio Code...\n",
            "\n",
            "--- Upgrade RAM ---\n",
            "RAM ASUS diupgrade sebesar 8 GB (Tipe: DDR4).\n",
            "Total RAM sekarang: 24 GB\n",
            "RAM Lenovo diupgrade sebesar 16 GB (Tipe: DDR5).\n",
            "Total RAM sekarang: 24 GB\n"
          ]
        }
      ]
    }
  ]
}