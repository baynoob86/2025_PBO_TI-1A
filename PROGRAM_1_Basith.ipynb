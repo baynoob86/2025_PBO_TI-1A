{
  "nbformat": 4,
  "nbformat_minor": 0,
  "metadata": {
    "colab": {
      "provenance": [],
      "authorship_tag": "ABX9TyPGAAcpFyulTbd8f5OboIJH",
      "include_colab_link": true
    },
    "kernelspec": {
      "name": "python3",
      "display_name": "Python 3"
    },
    "language_info": {
      "name": "python"
    }
  },
  "cells": [
    {
      "cell_type": "markdown",
      "metadata": {
        "id": "view-in-github",
        "colab_type": "text"
      },
      "source": [
        "<a href=\"https://colab.research.google.com/github/baynoob86/2025_PBO_TI-1A/blob/main/PROGRAM_1_Basith.ipynb\" target=\"_parent\"><img src=\"https://colab.research.google.com/assets/colab-badge.svg\" alt=\"Open In Colab\"/></a>"
      ]
    },
    {
      "cell_type": "markdown",
      "source": [
        "Buat Program 1: Buat program untuk menghitung BMI (Body Mass Index) dengan rumus:\n",
        "BMI=(berat(kg))/(tinggi(m)^2 )\n",
        "\tInput: berat (kg) dan tinggi (cm).\n",
        "\tOutput: nilai BMI dan kategori (Underweight dibawah 18.5, Normal 18.5-24.9, Overweight 25-29.9).\n"
      ],
      "metadata": {
        "id": "cPQSBgvGyOkD"
      }
    },
    {
      "cell_type": "code",
      "source": [],
      "metadata": {
        "colab": {
          "base_uri": "https://localhost:8080/"
        },
        "id": "--mJS3zsyWGK",
        "outputId": "c3fdca93-37b3-4ee7-fa0b-9135e5b562f6"
      },
      "execution_count": 3,
      "outputs": [
        {
          "output_type": "stream",
          "name": "stdout",
          "text": [
            "Siapa namamu? yafi\n",
            "Halo, yafi\n"
          ]
        }
      ]
    },
    {
      "cell_type": "code",
      "source": [
        "berat = float(input(\"Masukkan berat badan anda(kg): \"))\n",
        "tinggicm = float(input(\"Masukkan tinggi badan anda(): \"))\n",
        "\n",
        "#ubah tinnggi ke meter\n",
        "tinggi_m = tinggicm / 100\n",
        "\n",
        "#Rumus bmi\n",
        "bmi = berat / (tinggi_m ** 2)\n",
        "\n",
        "# Tampilkan hasil BMI\n",
        "print(f\"Nilai BMI kamu adalah: {bmi:.2f}\")\n",
        "\n",
        "if bmi < 18.5:\n",
        "  print(\"Katergori: Underweight\")\n",
        "elif 18.5 <= bmi < 24.9:\n",
        "  print(\"Katergori: Normal\",\"\\nSelamat \")\n",
        "elif 25 <= bmi <= 18.5:\n",
        "  print(\"Katergori: Overweight\", \"Lemu temen\")"
      ],
      "metadata": {
        "colab": {
          "base_uri": "https://localhost:8080/"
        },
        "id": "9uXlaHSFz3XR",
        "outputId": "395da519-6b1c-43da-b282-1979888c353b"
      },
      "execution_count": 6,
      "outputs": [
        {
          "output_type": "stream",
          "name": "stdout",
          "text": [
            "Masukkan berat badan anda(kg): 70\n",
            "Masukkan tinggi badan anda(): 172\n",
            "Nilai BMI kamu adalah: 23.66\n",
            "Katergori: Normal \n",
            "Selamat \n"
          ]
        }
      ]
    }
  ]
}